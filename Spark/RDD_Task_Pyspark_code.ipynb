{
 "cells": [
  {
   "cell_type": "code",
   "execution_count": 1,
   "id": "ebf65bbf",
   "metadata": {},
   "outputs": [],
   "source": [
    "from pyspark.sql import SparkSession\n",
    "import getpass\n",
    "username = getpass.getuser()\n",
    "spark = SparkSession. \\\n",
    "builder. \\\n",
    "config('spark.ui.port','0'). \\\n",
    "config(\"spark.sql.warehouse.dir\", f\"/user/itv000173/warehouse\"). \\\n",
    "enableHiveSupport(). \\\n",
    "master('yarn'). \\\n",
    "getOrCreate()\n"
   ]
  },
  {
   "cell_type": "code",
   "execution_count": 5,
   "id": "140c3a68",
   "metadata": {},
   "outputs": [],
   "source": [
    "rdd1 = spark.sparkContext.textFile(\"vanathi/scala_task1.txt\")"
   ]
  },
  {
   "cell_type": "code",
   "execution_count": 6,
   "id": "df9f748a",
   "metadata": {},
   "outputs": [],
   "source": [
    "temperatures_rdd = rdd1.map(lambda line: float(line.split(\",\")[2]))"
   ]
  },
  {
   "cell_type": "code",
   "execution_count": 7,
   "id": "06f0c506",
   "metadata": {},
   "outputs": [],
   "source": [
    "max_temperature = temperatures_rdd.max()"
   ]
  },
  {
   "cell_type": "code",
   "execution_count": 8,
   "id": "de62ebfb",
   "metadata": {},
   "outputs": [
    {
     "name": "stdout",
     "output_type": "stream",
     "text": [
      "Highest temperature recorded: 60.2\n"
     ]
    }
   ],
   "source": [
    "print(\"Highest temperature recorded:\", max_temperature)"
   ]
  },
  {
   "cell_type": "code",
   "execution_count": 9,
   "id": "9f524421",
   "metadata": {},
   "outputs": [],
   "source": [
    "sensor_temperatures_rdd = rdd1.map(lambda line: (line.split(\",\")[0], float(line.split(\",\")[2])))"
   ]
  },
  {
   "cell_type": "code",
   "execution_count": 10,
   "id": "4c4d31e3",
   "metadata": {},
   "outputs": [],
   "source": [
    "filtered_temperatures_rdd = sensor_temperatures_rdd.filter(lambda x: x[1] > 50)"
   ]
  },
  {
   "cell_type": "code",
   "execution_count": 11,
   "id": "4b38923b",
   "metadata": {},
   "outputs": [],
   "source": [
    "sensor_counts_rdd = filtered_temperatures_rdd.map(lambda x: (x[0], 1))"
   ]
  },
  {
   "cell_type": "code",
   "execution_count": 12,
   "id": "70cac793",
   "metadata": {},
   "outputs": [],
   "source": [
    "sensor_temperature_counts = sensor_counts_rdd.reduceByKey(lambda x, y: x + y)"
   ]
  },
  {
   "cell_type": "code",
   "execution_count": 15,
   "id": "a2d1bd54",
   "metadata": {},
   "outputs": [],
   "source": [
    "result = sensor_temperature_counts.map(lambda x: (x[1], x[0]))"
   ]
  },
  {
   "cell_type": "code",
   "execution_count": 16,
   "id": "a701e28d",
   "metadata": {},
   "outputs": [],
   "source": [
    "final_result = result.collect()"
   ]
  },
  {
   "cell_type": "code",
   "execution_count": 17,
   "id": "1146b635",
   "metadata": {},
   "outputs": [
    {
     "name": "stdout",
     "output_type": "stream",
     "text": [
      "Count, Sensor Name\n",
      "2, s1\n",
      "1, s2\n"
     ]
    }
   ],
   "source": [
    "print(\"Count, Sensor Name\")\n",
    "for count, sensor in final_result:\n",
    "    print(f\"{count}, {sensor}\")"
   ]
  },
  {
   "cell_type": "code",
   "execution_count": null,
   "id": "3f00110c",
   "metadata": {},
   "outputs": [],
   "source": []
  }
 ],
 "metadata": {
  "kernelspec": {
   "display_name": "Pyspark 3",
   "language": "python",
   "name": "pyspark3"
  },
  "language_info": {
   "codemirror_mode": {
    "name": "ipython",
    "version": 3
   },
   "file_extension": ".py",
   "mimetype": "text/x-python",
   "name": "python",
   "nbconvert_exporter": "python",
   "pygments_lexer": "ipython3",
   "version": "3.6.12"
  }
 },
 "nbformat": 4,
 "nbformat_minor": 5
}
