{
 "cells": [
  {
   "cell_type": "code",
   "execution_count": null,
   "metadata": {
    "application/vnd.databricks.v1+cell": {
     "cellMetadata": {
      "byteLimit": 2048000,
      "rowLimit": 10000
     },
     "inputWidgets": {},
     "nuid": "f79734ba-f182-4c15-9e33-b92cec30e1d1",
     "showTitle": false,
     "title": ""
    }
   },
   "outputs": [
    {
     "name": "stdout",
     "output_type": "stream",
     "text": [
      "/mnt/mimic has been unmounted.\n"
     ]
    },
    {
     "data": {
      "text/plain": [
       "True"
      ]
     },
     "execution_count": 3,
     "metadata": {},
     "output_type": "execute_result"
    }
   ],
   "source": [
    "dbutils.fs.unmount(\"/mnt/mimic\")"
   ]
  },
  {
   "cell_type": "code",
   "execution_count": null,
   "metadata": {
    "application/vnd.databricks.v1+cell": {
     "cellMetadata": {
      "byteLimit": 2048000,
      "rowLimit": 10000
     },
     "inputWidgets": {},
     "nuid": "b647e436-adba-4c07-9e2a-0d0256f91a7e",
     "showTitle": false,
     "title": ""
    }
   },
   "outputs": [
    {
     "data": {
      "text/plain": [
       "True"
      ]
     },
     "execution_count": 4,
     "metadata": {},
     "output_type": "execute_result"
    }
   ],
   "source": [
    "# Mounting the Azure Blob Storage to DBFS\n",
    "dbutils.fs.mount(\n",
    "  source=\"wasbs://mimic@mimicsa17.blob.core.windows.net\",\n",
    "  mount_point='/mnt/mimic',\n",
    "  extra_configs={\n",
    "    'fs.azure.account.key.mimicsa17.blob.core.windows.net': \"\"\n",
    "  }\n",
    ")"
   ]
  },
  {
   "cell_type": "code",
   "execution_count": null,
   "metadata": {
    "application/vnd.databricks.v1+cell": {
     "cellMetadata": {
      "byteLimit": 2048000,
      "rowLimit": 10000
     },
     "inputWidgets": {},
     "nuid": "c2880dfa-c335-4e18-a62d-204dfc7552c1",
     "showTitle": false,
     "title": ""
    }
   },
   "outputs": [
    {
     "data": {
      "text/plain": [
       "[FileInfo(path='dbfs:/mnt/mimic/raw/admissions.csv', name='admissions.csv', size=47646, modificationTime=1714227575000),\n",
       " FileInfo(path='dbfs:/mnt/mimic/raw/d_icd_diagnoses.csv', name='d_icd_diagnoses.csv', size=8959311, modificationTime=1714227587000),\n",
       " FileInfo(path='dbfs:/mnt/mimic/raw/drgcodes.csv', name='drgcodes.csv', size=33117, modificationTime=1714227575000),\n",
       " FileInfo(path='dbfs:/mnt/mimic/raw/emar.csv', name='emar.csv', size=5271932, modificationTime=1714227582000),\n",
       " FileInfo(path='dbfs:/mnt/mimic/raw/patients.csv', name='patients.csv', size=3674, modificationTime=1714227575000),\n",
       " FileInfo(path='dbfs:/mnt/mimic/raw/procedures_icd.csv', name='procedures_icd.csv', size=29545, modificationTime=1714227575000),\n",
       " FileInfo(path='dbfs:/mnt/mimic/raw/services.csv', name='services.csv', size=14523, modificationTime=1714227575000)]"
      ]
     },
     "execution_count": 5,
     "metadata": {},
     "output_type": "execute_result"
    }
   ],
   "source": [
    "dbutils.fs.ls('/mnt/mimic/raw')"
   ]
  },
  {
   "cell_type": "markdown",
   "metadata": {
    "application/vnd.databricks.v1+cell": {
     "cellMetadata": {
      "byteLimit": 2048000,
      "rowLimit": 10000
     },
     "inputWidgets": {},
     "nuid": "32509af5-c030-4e7a-8348-5177cad5811f",
     "showTitle": false,
     "title": ""
    }
   },
   "source": [
    "1.Create a dataframe with proper datatypes"
   ]
  },
  {
   "cell_type": "markdown",
   "metadata": {
    "application/vnd.databricks.v1+cell": {
     "cellMetadata": {
      "byteLimit": 2048000,
      "rowLimit": 10000
     },
     "inputWidgets": {},
     "nuid": "04f40a02-8aef-4c1f-9be8-12da268e2ac6",
     "showTitle": false,
     "title": ""
    }
   },
   "source": []
  },
  {
   "cell_type": "code",
   "execution_count": null,
   "metadata": {
    "application/vnd.databricks.v1+cell": {
     "cellMetadata": {
      "byteLimit": 2048000,
      "rowLimit": 10000
     },
     "inputWidgets": {},
     "nuid": "e46d9498-bb7c-4eb6-a4e6-bd69e45780e6",
     "showTitle": false,
     "title": ""
    }
   },
   "outputs": [],
   "source": [
    "admissions_schema=\"subject_id int, hadm_id int, admittime string, dischtime string, deathtime string, admission_type string, admit_provider_id string, admission_location string, discharge_location string, insurance string, language string, marital_status string, race string, edregtime string, edouttime string, hospital_expire_flag int\"\n",
    "patients_schema=\"subject_id int, gender string, anchor_age int, anchor_year string, anchor_year_group string, dod string\"\n",
    "drgcodes_schema=\"subject_id int, hadm_id int, drg_type string, drg_code int, description string, drg_severity string, drg_mortality string\"\n",
    "services_schema=\"subject_id int, hadm_id int, transfertime string, prev_service string, curr_service string\"\n",
    "emar_schema=\"subject_id int, hadm_id int, emar_id string, emar_seq int, poe_id  string, pharmacy_id int, enter_provider_id string, charttime string, medication string,event_txt string, scheduletime string, storetime string\"\n",
    "d_icd_diagnoses_schema=\"icd_code int, icd_version int, long_title string\"\n",
    "procedures_icd_schema=\"subject_id int, hadm_id int, seq_num int, chartdate string, icd_code int, icd_version int\"\n"
   ]
  },
  {
   "cell_type": "code",
   "execution_count": null,
   "metadata": {
    "application/vnd.databricks.v1+cell": {
     "cellMetadata": {
      "byteLimit": 2048000,
      "rowLimit": 10000
     },
     "inputWidgets": {},
     "nuid": "3f6ff162-7053-48ea-aa3f-212648383cf1",
     "showTitle": false,
     "title": ""
    }
   },
   "outputs": [],
   "source": [
    "df_drgcodes = spark.read.csv(\"dbfs:/mnt/mimic/raw/drgcodes.csv\", schema=drgcodes_schema)\n",
    "df_admissions = spark.read.csv(\"dbfs:/mnt/mimic/raw/admissions.csv\", schema=admissions_schema)\n",
    "df_diagnoses = spark.read.csv(\"dbfs:/mnt/mimic/raw/d_icd_diagnoses.csv\", schema=d_icd_diagnoses_schema)\n",
    "df_emar = spark.read.csv(\"dbfs:/mnt/mimic/raw/emar.csv\", schema=emar_schema)\n",
    "df_patients = spark.read.csv(\"dbfs:/mnt/mimic/raw/patients.csv\", schema=patients_schema)\n",
    "df_procedures_icd = spark.read.csv(\"dbfs:/mnt/mimic/raw/procedures_icd.csv\", schema=procedures_icd_schema)\n",
    "df_services = spark.read.csv(\"dbfs:/mnt/mimic/raw/services.csv\", schema=services_schema)"
   ]
  },
  {
   "cell_type": "markdown",
   "metadata": {
    "application/vnd.databricks.v1+cell": {
     "cellMetadata": {
      "byteLimit": 2048000,
      "rowLimit": 10000
     },
     "inputWidgets": {},
     "nuid": "5f4441aa-ed54-4a7a-b20c-9039aa7b18b5",
     "showTitle": false,
     "title": ""
    }
   },
   "source": [
    "2. Insert a new column named as ingestion date(current time)\n"
   ]
  },
  {
   "cell_type": "code",
   "execution_count": null,
   "metadata": {
    "application/vnd.databricks.v1+cell": {
     "cellMetadata": {
      "byteLimit": 2048000,
      "rowLimit": 10000
     },
     "inputWidgets": {},
     "nuid": "17673cd3-b6f5-42aa-84ec-e7435940f05e",
     "showTitle": false,
     "title": ""
    }
   },
   "outputs": [],
   "source": [
    "from pyspark.sql.functions import current_timestamp\n",
    "df_patients_ingesd = df_patients.withColumn(\"ingest_date\", current_timestamp())\n",
    "df_drgcode_ingesd = df_drgcodes.withColumn(\"ingest_date\", current_timestamp())\n",
    "df_admissions_ingesd = df_admissions.withColumn(\"ingest_date\", current_timestamp())\n",
    "df_diagnoses_ingesd = df_diagnoses.withColumn(\"ingest_date\", current_timestamp())\n",
    "df_emar_ingesd = df_emar.withColumn(\"ingest_date\", current_timestamp())\n",
    "df_procedures_ingesd = df_procedures_icd.withColumn(\"ingest_date\", current_timestamp())\n",
    "df_services_ingesd = df_services.withColumn(\"ingest_date\", current_timestamp())"
   ]
  },
  {
   "cell_type": "markdown",
   "metadata": {
    "application/vnd.databricks.v1+cell": {
     "cellMetadata": {
      "byteLimit": 2048000,
      "rowLimit": 10000
     },
     "inputWidgets": {},
     "nuid": "48befb90-a42f-4ea1-b356-ea725980e7f5",
     "showTitle": false,
     "title": ""
    }
   },
   "source": [
    "3.Remove complete duplicate rows"
   ]
  },
  {
   "cell_type": "code",
   "execution_count": null,
   "metadata": {
    "application/vnd.databricks.v1+cell": {
     "cellMetadata": {
      "byteLimit": 2048000,
      "rowLimit": 10000
     },
     "inputWidgets": {},
     "nuid": "49d72ea6-6e43-4d32-9c25-daf24ec3375f",
     "showTitle": false,
     "title": ""
    }
   },
   "outputs": [],
   "source": [
    "patients_distinct=df_patients_ingesd.distinct()\n",
    "drgcode_distinct=df_drgcode_ingesd.distinct()\n",
    "admissions_distinct=df_admissions_ingesd.distinct()\n",
    "diagnoses_distinct=df_diagnoses_ingesd.distinct()\n",
    "emar_distinct=df_emar_ingesd.distinct()\n",
    "procedures_distinct=df_procedures_ingesd.distinct()\n",
    "services_distinct=df_services_ingesd.distinct()\n"
   ]
  },
  {
   "cell_type": "markdown",
   "metadata": {
    "application/vnd.databricks.v1+cell": {
     "cellMetadata": {
      "byteLimit": 2048000,
      "rowLimit": 10000
     },
     "inputWidgets": {},
     "nuid": "1d9d6add-83fa-4aeb-9f68-7d086556e940",
     "showTitle": false,
     "title": ""
    }
   },
   "source": [
    "4.Remove the null value rows"
   ]
  },
  {
   "cell_type": "code",
   "execution_count": null,
   "metadata": {
    "application/vnd.databricks.v1+cell": {
     "cellMetadata": {
      "byteLimit": 2048000,
      "rowLimit": 10000
     },
     "inputWidgets": {},
     "nuid": "bfe258c8-0a1d-4bcf-8c91-4971346a29a0",
     "showTitle": false,
     "title": ""
    }
   },
   "outputs": [],
   "source": [
    "patients_distinct_df = patients_distinct.na.drop()\n",
    "admissions_distinct_df=admissions_distinct.na.drop()"
   ]
  },
  {
   "cell_type": "markdown",
   "metadata": {
    "application/vnd.databricks.v1+cell": {
     "cellMetadata": {
      "byteLimit": 2048000,
      "rowLimit": 10000
     },
     "inputWidgets": {},
     "nuid": "dfb3fcc0-f7ef-4bda-8e0f-3e4bdfbbae65",
     "showTitle": false,
     "title": ""
    }
   },
   "source": [
    "Writing Cleaned data to Cleaned folder in Datalake and into Delta table"
   ]
  },
  {
   "cell_type": "code",
   "execution_count": null,
   "metadata": {
    "application/vnd.databricks.v1+cell": {
     "cellMetadata": {
      "byteLimit": 2048000,
      "implicitDf": true,
      "rowLimit": 10000
     },
     "inputWidgets": {},
     "nuid": "79211242-9cb1-4d03-bffd-cdab2fa270a8",
     "showTitle": false,
     "title": ""
    }
   },
   "outputs": [
    {
     "data": {
      "text/html": [
       "<style scoped>\n",
       "  .table-result-container {\n",
       "    max-height: 300px;\n",
       "    overflow: auto;\n",
       "  }\n",
       "  table, th, td {\n",
       "    border: 1px solid black;\n",
       "    border-collapse: collapse;\n",
       "  }\n",
       "  th, td {\n",
       "    padding: 5px;\n",
       "  }\n",
       "  th {\n",
       "    text-align: left;\n",
       "  }\n",
       "</style><div class='table-result-container'><table class='table-result'><thead style='background-color: white'><tr></tr></thead><tbody></tbody></table></div>"
      ]
     },
     "metadata": {
      "application/vnd.databricks.v1+output": {
       "addedWidgets": {},
       "aggData": [],
       "aggError": "",
       "aggOverflow": false,
       "aggSchema": [],
       "aggSeriesLimitReached": false,
       "aggType": "",
       "arguments": {},
       "columnCustomDisplayInfos": {},
       "data": [],
       "datasetInfos": [],
       "dbfsResultPath": null,
       "isJsonSchema": true,
       "metadata": {
        "dataframeName": null
       },
       "overflow": false,
       "plotOptions": {
        "customPlotOptions": {},
        "displayType": "table",
        "pivotAggregation": null,
        "pivotColumns": null,
        "xColumns": null,
        "yColumns": null
       },
       "removedWidgets": [],
       "schema": [],
       "type": "table"
      }
     },
     "output_type": "display_data"
    }
   ],
   "source": [
    "%sql\n",
    "DROP SCHEMA if EXISTS mimicdb CASCADE;\n",
    "DROP SCHEMA if EXISTS mimicdbreports CASCADE;"
   ]
  },
  {
   "cell_type": "code",
   "execution_count": null,
   "metadata": {
    "application/vnd.databricks.v1+cell": {
     "cellMetadata": {
      "byteLimit": 2048000,
      "implicitDf": true,
      "rowLimit": 10000
     },
     "inputWidgets": {},
     "nuid": "642684a2-d361-4773-9d98-c0582a8335ee",
     "showTitle": false,
     "title": ""
    }
   },
   "outputs": [
    {
     "data": {
      "text/html": [
       "<style scoped>\n",
       "  .table-result-container {\n",
       "    max-height: 300px;\n",
       "    overflow: auto;\n",
       "  }\n",
       "  table, th, td {\n",
       "    border: 1px solid black;\n",
       "    border-collapse: collapse;\n",
       "  }\n",
       "  th, td {\n",
       "    padding: 5px;\n",
       "  }\n",
       "  th {\n",
       "    text-align: left;\n",
       "  }\n",
       "</style><div class='table-result-container'><table class='table-result'><thead style='background-color: white'><tr></tr></thead><tbody></tbody></table></div>"
      ]
     },
     "metadata": {
      "application/vnd.databricks.v1+output": {
       "addedWidgets": {},
       "aggData": [],
       "aggError": "",
       "aggOverflow": false,
       "aggSchema": [],
       "aggSeriesLimitReached": false,
       "aggType": "",
       "arguments": {},
       "columnCustomDisplayInfos": {},
       "data": [],
       "datasetInfos": [],
       "dbfsResultPath": null,
       "isJsonSchema": true,
       "metadata": {
        "dataframeName": null
       },
       "overflow": false,
       "plotOptions": {
        "customPlotOptions": {},
        "displayType": "table",
        "pivotAggregation": null,
        "pivotColumns": null,
        "xColumns": null,
        "yColumns": null
       },
       "removedWidgets": [],
       "schema": [],
       "type": "table"
      }
     },
     "output_type": "display_data"
    }
   ],
   "source": [
    "%sql\n",
    "create database if not exists mimicdb;\n",
    "create database if not exists mimicdbreports;"
   ]
  },
  {
   "cell_type": "code",
   "execution_count": null,
   "metadata": {
    "application/vnd.databricks.v1+cell": {
     "cellMetadata": {
      "byteLimit": 2048000,
      "rowLimit": 10000
     },
     "inputWidgets": {},
     "nuid": "1c21b0b4-3d10-424d-bb9f-61a50817daa1",
     "showTitle": false,
     "title": ""
    }
   },
   "outputs": [],
   "source": [
    "patients_distinct_df.write.mode(\"overwrite\").format(\"delta\").option(\"path\",\"/mnt/mimic/cleaned/patients.delta\").saveAsTable(\"mimicdb.patientsdeltatable\")\n",
    "admissions_distinct_df.write.mode(\"overwrite\").format(\"delta\").option(\"path\",\"/mnt/mimic/cleaned/admissions.delta\").saveAsTable(\"mimicdb.admissionsdeltatable\")\n",
    "drgcode_distinct.write.mode(\"overwrite\").format(\"delta\").option(\"path\",\"/mnt/mimic/cleaned/drgcode.delta\").saveAsTable(\"mimicdb.drgcodedeltatable\")\n",
    "diagnoses_distinct.write.mode(\"overwrite\").format(\"delta\").option(\"path\",\"/mnt/mimic/cleaned/diagnoses.delta\").saveAsTable(\"mimicdb.diagnosesdeltatable\")\n",
    "emar_distinct.write.mode(\"overwrite\").format(\"delta\").option(\"path\",\"/mnt/mimic/cleaned/emar.delta\").saveAsTable(\"mimicdb.emardeltatable\")\n",
    "procedures_distinct.write.mode(\"overwrite\").format(\"delta\").option(\"path\",\"/mnt/mimic/cleaned/procedures.delta\").saveAsTable(\"mimicdb.proceduresdeltatable\")\n",
    "services_distinct.write.mode(\"overwrite\").format(\"delta\").option(\"path\",\"/mnt/mimic/cleaned/services.delta\").saveAsTable(\"mimicdb.servicesdeltatable\")"
   ]
  },
  {
   "cell_type": "code",
   "execution_count": null,
   "metadata": {
    "application/vnd.databricks.v1+cell": {
     "cellMetadata": {
      "byteLimit": 2048000,
      "implicitDf": true,
      "rowLimit": 10000
     },
     "inputWidgets": {},
     "nuid": "d425884f-a157-4647-a243-68751bb69f69",
     "showTitle": false,
     "title": ""
    }
   },
   "outputs": [
    {
     "data": {
      "text/html": [
       "<style scoped>\n",
       "  .table-result-container {\n",
       "    max-height: 300px;\n",
       "    overflow: auto;\n",
       "  }\n",
       "  table, th, td {\n",
       "    border: 1px solid black;\n",
       "    border-collapse: collapse;\n",
       "  }\n",
       "  th, td {\n",
       "    padding: 5px;\n",
       "  }\n",
       "  th {\n",
       "    text-align: left;\n",
       "  }\n",
       "</style><div class='table-result-container'><table class='table-result'><thead style='background-color: white'><tr><th>subject_id</th><th>gender</th><th>anchor_age</th><th>anchor_year</th><th>anchor_year_group</th><th>dod</th><th>ingest_date</th></tr></thead><tbody><tr><td>10025463</td><td>M</td><td>66</td><td>2136</td><td>2011 - 2013</td><td>2137-10-09</td><td>2024-04-27T21:20:52.867Z</td></tr><tr><td>10035631</td><td>M</td><td>63</td><td>2112</td><td>2011 - 2013</td><td>2116-03-12</td><td>2024-04-27T21:20:52.867Z</td></tr><tr><td>10032725</td><td>F</td><td>38</td><td>2143</td><td>2011 - 2013</td><td>2143-03-30</td><td>2024-04-27T21:20:52.867Z</td></tr><tr><td>10010471</td><td>F</td><td>89</td><td>2155</td><td>2014 - 2016</td><td>2155-12-07</td><td>2024-04-27T21:20:52.867Z</td></tr><tr><td>10037861</td><td>M</td><td>77</td><td>2115</td><td>2014 - 2016</td><td>2117-03-24</td><td>2024-04-27T21:20:52.867Z</td></tr><tr><td>10021666</td><td>M</td><td>87</td><td>2172</td><td>2011 - 2013</td><td>2172-04-19</td><td>2024-04-27T21:20:52.867Z</td></tr><tr><td>10004720</td><td>M</td><td>61</td><td>2183</td><td>2014 - 2016</td><td>2186-11-17</td><td>2024-04-27T21:20:52.867Z</td></tr><tr><td>10002930</td><td>F</td><td>48</td><td>2193</td><td>2011 - 2013</td><td>2201-12-24</td><td>2024-04-27T21:20:52.867Z</td></tr><tr><td>10015931</td><td>M</td><td>87</td><td>2176</td><td>2014 - 2016</td><td>2177-03-29</td><td>2024-04-27T21:20:52.867Z</td></tr><tr><td>10020640</td><td>F</td><td>91</td><td>2153</td><td>2011 - 2013</td><td>2154-02-04</td><td>2024-04-27T21:20:52.867Z</td></tr><tr><td>10021938</td><td>M</td><td>65</td><td>2181</td><td>2011 - 2013</td><td>2182-10-16</td><td>2024-04-27T21:20:52.867Z</td></tr><tr><td>10020944</td><td>M</td><td>72</td><td>2131</td><td>2014 - 2016</td><td>2131-04-28</td><td>2024-04-27T21:20:52.867Z</td></tr><tr><td>10005866</td><td>M</td><td>57</td><td>2146</td><td>2014 - 2016</td><td>2149-11-21</td><td>2024-04-27T21:20:52.867Z</td></tr><tr><td>10038081</td><td>F</td><td>63</td><td>2115</td><td>2014 - 2016</td><td>2115-10-12</td><td>2024-04-27T21:20:52.867Z</td></tr><tr><td>10000032</td><td>F</td><td>52</td><td>2180</td><td>2014 - 2016</td><td>2180-09-09</td><td>2024-04-27T21:20:52.867Z</td></tr><tr><td>10017492</td><td>M</td><td>84</td><td>2114</td><td>2011 - 2013</td><td>2116-07-05</td><td>2024-04-27T21:20:52.867Z</td></tr><tr><td>10019777</td><td>M</td><td>51</td><td>2187</td><td>2014 - 2016</td><td>2187-04-29</td><td>2024-04-27T21:20:52.867Z</td></tr><tr><td>10018081</td><td>M</td><td>79</td><td>2133</td><td>2011 - 2013</td><td>2134-10-28</td><td>2024-04-27T21:20:52.867Z</td></tr><tr><td>10007818</td><td>M</td><td>69</td><td>2146</td><td>2014 - 2016</td><td>2146-07-12</td><td>2024-04-27T21:20:52.867Z</td></tr><tr><td>10026255</td><td>M</td><td>66</td><td>2200</td><td>2011 - 2013</td><td>2201-07-13</td><td>2024-04-27T21:20:52.867Z</td></tr><tr><td>10037975</td><td>M</td><td>60</td><td>2185</td><td>2014 - 2016</td><td>2185-01-22</td><td>2024-04-27T21:20:52.867Z</td></tr><tr><td>10003400</td><td>F</td><td>72</td><td>2134</td><td>2011 - 2013</td><td>2137-09-02</td><td>2024-04-27T21:20:52.867Z</td></tr><tr><td>10005817</td><td>M</td><td>66</td><td>2132</td><td>2014 - 2016</td><td>2135-01-19</td><td>2024-04-27T21:20:52.867Z</td></tr><tr><td>10040025</td><td>F</td><td>64</td><td>2143</td><td>2011 - 2013</td><td>2148-02-07</td><td>2024-04-27T21:20:52.867Z</td></tr><tr><td>10031757</td><td>F</td><td>67</td><td>2137</td><td>2014 - 2016</td><td>2137-10-31</td><td>2024-04-27T21:20:52.867Z</td></tr><tr><td>10018845</td><td>M</td><td>91</td><td>2184</td><td>2014 - 2016</td><td>2184-11-22</td><td>2024-04-27T21:20:52.867Z</td></tr><tr><td>10027445</td><td>F</td><td>48</td><td>2142</td><td>2011 - 2013</td><td>2146-02-09</td><td>2024-04-27T21:20:52.867Z</td></tr><tr><td>10023117</td><td>M</td><td>53</td><td>2170</td><td>2011 - 2013</td><td>2175-07-20</td><td>2024-04-27T21:20:52.867Z</td></tr><tr><td>10019003</td><td>F</td><td>65</td><td>2148</td><td>2011 - 2013</td><td>2155-12-03</td><td>2024-04-27T21:20:52.867Z</td></tr><tr><td>10006053</td><td>M</td><td>52</td><td>2111</td><td>2014 - 2016</td><td>2111-11-15</td><td>2024-04-27T21:20:52.867Z</td></tr><tr><td>10024043</td><td>M</td><td>67</td><td>2117</td><td>2011 - 2013</td><td>2117-06-26</td><td>2024-04-27T21:20:52.867Z</td></tr></tbody></table></div>"
      ]
     },
     "metadata": {
      "application/vnd.databricks.v1+output": {
       "addedWidgets": {},
       "aggData": [],
       "aggError": "",
       "aggOverflow": false,
       "aggSchema": [],
       "aggSeriesLimitReached": false,
       "aggType": "",
       "arguments": {},
       "columnCustomDisplayInfos": {},
       "data": [
        [
         10025463,
         "M",
         66,
         "2136",
         "2011 - 2013",
         "2137-10-09",
         "2024-04-27T21:20:52.867Z"
        ],
        [
         10035631,
         "M",
         63,
         "2112",
         "2011 - 2013",
         "2116-03-12",
         "2024-04-27T21:20:52.867Z"
        ],
        [
         10032725,
         "F",
         38,
         "2143",
         "2011 - 2013",
         "2143-03-30",
         "2024-04-27T21:20:52.867Z"
        ],
        [
         10010471,
         "F",
         89,
         "2155",
         "2014 - 2016",
         "2155-12-07",
         "2024-04-27T21:20:52.867Z"
        ],
        [
         10037861,
         "M",
         77,
         "2115",
         "2014 - 2016",
         "2117-03-24",
         "2024-04-27T21:20:52.867Z"
        ],
        [
         10021666,
         "M",
         87,
         "2172",
         "2011 - 2013",
         "2172-04-19",
         "2024-04-27T21:20:52.867Z"
        ],
        [
         10004720,
         "M",
         61,
         "2183",
         "2014 - 2016",
         "2186-11-17",
         "2024-04-27T21:20:52.867Z"
        ],
        [
         10002930,
         "F",
         48,
         "2193",
         "2011 - 2013",
         "2201-12-24",
         "2024-04-27T21:20:52.867Z"
        ],
        [
         10015931,
         "M",
         87,
         "2176",
         "2014 - 2016",
         "2177-03-29",
         "2024-04-27T21:20:52.867Z"
        ],
        [
         10020640,
         "F",
         91,
         "2153",
         "2011 - 2013",
         "2154-02-04",
         "2024-04-27T21:20:52.867Z"
        ],
        [
         10021938,
         "M",
         65,
         "2181",
         "2011 - 2013",
         "2182-10-16",
         "2024-04-27T21:20:52.867Z"
        ],
        [
         10020944,
         "M",
         72,
         "2131",
         "2014 - 2016",
         "2131-04-28",
         "2024-04-27T21:20:52.867Z"
        ],
        [
         10005866,
         "M",
         57,
         "2146",
         "2014 - 2016",
         "2149-11-21",
         "2024-04-27T21:20:52.867Z"
        ],
        [
         10038081,
         "F",
         63,
         "2115",
         "2014 - 2016",
         "2115-10-12",
         "2024-04-27T21:20:52.867Z"
        ],
        [
         10000032,
         "F",
         52,
         "2180",
         "2014 - 2016",
         "2180-09-09",
         "2024-04-27T21:20:52.867Z"
        ],
        [
         10017492,
         "M",
         84,
         "2114",
         "2011 - 2013",
         "2116-07-05",
         "2024-04-27T21:20:52.867Z"
        ],
        [
         10019777,
         "M",
         51,
         "2187",
         "2014 - 2016",
         "2187-04-29",
         "2024-04-27T21:20:52.867Z"
        ],
        [
         10018081,
         "M",
         79,
         "2133",
         "2011 - 2013",
         "2134-10-28",
         "2024-04-27T21:20:52.867Z"
        ],
        [
         10007818,
         "M",
         69,
         "2146",
         "2014 - 2016",
         "2146-07-12",
         "2024-04-27T21:20:52.867Z"
        ],
        [
         10026255,
         "M",
         66,
         "2200",
         "2011 - 2013",
         "2201-07-13",
         "2024-04-27T21:20:52.867Z"
        ],
        [
         10037975,
         "M",
         60,
         "2185",
         "2014 - 2016",
         "2185-01-22",
         "2024-04-27T21:20:52.867Z"
        ],
        [
         10003400,
         "F",
         72,
         "2134",
         "2011 - 2013",
         "2137-09-02",
         "2024-04-27T21:20:52.867Z"
        ],
        [
         10005817,
         "M",
         66,
         "2132",
         "2014 - 2016",
         "2135-01-19",
         "2024-04-27T21:20:52.867Z"
        ],
        [
         10040025,
         "F",
         64,
         "2143",
         "2011 - 2013",
         "2148-02-07",
         "2024-04-27T21:20:52.867Z"
        ],
        [
         10031757,
         "F",
         67,
         "2137",
         "2014 - 2016",
         "2137-10-31",
         "2024-04-27T21:20:52.867Z"
        ],
        [
         10018845,
         "M",
         91,
         "2184",
         "2014 - 2016",
         "2184-11-22",
         "2024-04-27T21:20:52.867Z"
        ],
        [
         10027445,
         "F",
         48,
         "2142",
         "2011 - 2013",
         "2146-02-09",
         "2024-04-27T21:20:52.867Z"
        ],
        [
         10023117,
         "M",
         53,
         "2170",
         "2011 - 2013",
         "2175-07-20",
         "2024-04-27T21:20:52.867Z"
        ],
        [
         10019003,
         "F",
         65,
         "2148",
         "2011 - 2013",
         "2155-12-03",
         "2024-04-27T21:20:52.867Z"
        ],
        [
         10006053,
         "M",
         52,
         "2111",
         "2014 - 2016",
         "2111-11-15",
         "2024-04-27T21:20:52.867Z"
        ],
        [
         10024043,
         "M",
         67,
         "2117",
         "2011 - 2013",
         "2117-06-26",
         "2024-04-27T21:20:52.867Z"
        ]
       ],
       "datasetInfos": [],
       "dbfsResultPath": null,
       "isJsonSchema": true,
       "metadata": {
        "dataframeName": "_sqldf",
        "executionCount": 1
       },
       "overflow": false,
       "plotOptions": {
        "customPlotOptions": {},
        "displayType": "table",
        "pivotAggregation": null,
        "pivotColumns": null,
        "xColumns": null,
        "yColumns": null
       },
       "removedWidgets": [],
       "schema": [
        {
         "metadata": "{}",
         "name": "subject_id",
         "type": "\"integer\""
        },
        {
         "metadata": "{}",
         "name": "gender",
         "type": "\"string\""
        },
        {
         "metadata": "{}",
         "name": "anchor_age",
         "type": "\"integer\""
        },
        {
         "metadata": "{}",
         "name": "anchor_year",
         "type": "\"string\""
        },
        {
         "metadata": "{}",
         "name": "anchor_year_group",
         "type": "\"string\""
        },
        {
         "metadata": "{}",
         "name": "dod",
         "type": "\"string\""
        },
        {
         "metadata": "{}",
         "name": "ingest_date",
         "type": "\"timestamp\""
        }
       ],
       "type": "table"
      }
     },
     "output_type": "display_data"
    }
   ],
   "source": [
    "%sql\n",
    "select * from mimicdb.patientsdeltatable;"
   ]
  },
  {
   "cell_type": "code",
   "execution_count": null,
   "metadata": {
    "application/vnd.databricks.v1+cell": {
     "cellMetadata": {
      "byteLimit": 2048000,
      "implicitDf": true,
      "rowLimit": 10000
     },
     "inputWidgets": {},
     "nuid": "2046a0b1-3a15-422d-a649-84f1022cc8ef",
     "showTitle": false,
     "title": ""
    }
   },
   "outputs": [
    {
     "data": {
      "text/html": [
       "<style scoped>\n",
       "  .table-result-container {\n",
       "    max-height: 300px;\n",
       "    overflow: auto;\n",
       "  }\n",
       "  table, th, td {\n",
       "    border: 1px solid black;\n",
       "    border-collapse: collapse;\n",
       "  }\n",
       "  th, td {\n",
       "    padding: 5px;\n",
       "  }\n",
       "  th {\n",
       "    text-align: left;\n",
       "  }\n",
       "</style><div class='table-result-container'><table class='table-result'><thead style='background-color: white'><tr><th>version</th><th>timestamp</th><th>userId</th><th>userName</th><th>operation</th><th>operationParameters</th><th>job</th><th>notebook</th><th>clusterId</th><th>readVersion</th><th>isolationLevel</th><th>isBlindAppend</th><th>operationMetrics</th><th>userMetadata</th><th>engineInfo</th></tr></thead><tbody><tr><td>2</td><td>2024-04-27T21:21:15Z</td><td>4136898111039167</td><td>371efd20-b4d6-4aeb-bfef-b65c112f2ba9</td><td>CREATE OR REPLACE TABLE AS SELECT</td><td>Map(isManaged -> false, description -> null, partitionBy -> [], properties -> {})</td><td>List(532982921670694, ADF_mimicdf_pipeline1_Notebook1_b5136981-b4a0-451f-b2bd-23880ba89c93, null, 400690372824063, 4136898111039167, manual)</td><td>List(2425447914677500)</td><td>0427-211807-peyf1m4t</td><td>1</td><td>WriteSerializable</td><td>false</td><td>Map(numFiles -> 1, numOutputRows -> 31, numOutputBytes -> 2936)</td><td>null</td><td>Databricks-Runtime/10.4.x-scala2.12</td></tr><tr><td>1</td><td>2024-04-27T19:01:30Z</td><td>760545510687064</td><td>vanusakthi@gmail.com</td><td>CREATE OR REPLACE TABLE AS SELECT</td><td>Map(partitionBy -> [], description -> null, isManaged -> false, properties -> {}, statsOnLoad -> false)</td><td>null</td><td>List(2425447914677500)</td><td>0427-132021-qh391zxk</td><td>0</td><td>WriteSerializable</td><td>false</td><td>Map(numFiles -> 1, numOutputRows -> 31, numOutputBytes -> 2604)</td><td>null</td><td>Databricks-Runtime/13.3.x-photon-scala2.12</td></tr><tr><td>0</td><td>2024-04-27T18:33:34Z</td><td>4136898111039167</td><td>371efd20-b4d6-4aeb-bfef-b65c112f2ba9</td><td>CREATE OR REPLACE TABLE AS SELECT</td><td>Map(isManaged -> false, description -> null, partitionBy -> [], properties -> {})</td><td>List(318101451921577, ADF_mimicdf_pipeline1_Notebook1_dda02c74-2ca6-4360-82ce-5c511b167a52, null, 415008752895433, 4136898111039167, manual)</td><td>List(2425447914677500)</td><td>0427-183056-hemee69g</td><td>null</td><td>WriteSerializable</td><td>false</td><td>Map(numFiles -> 1, numOutputRows -> 31, numOutputBytes -> 2936)</td><td>null</td><td>Databricks-Runtime/10.4.x-scala2.12</td></tr></tbody></table></div>"
      ]
     },
     "metadata": {
      "application/vnd.databricks.v1+output": {
       "addedWidgets": {},
       "aggData": [],
       "aggError": "",
       "aggOverflow": false,
       "aggSchema": [],
       "aggSeriesLimitReached": false,
       "aggType": "",
       "arguments": {},
       "columnCustomDisplayInfos": {},
       "data": [
        [
         2,
         "2024-04-27T21:21:15Z",
         "4136898111039167",
         "371efd20-b4d6-4aeb-bfef-b65c112f2ba9",
         "CREATE OR REPLACE TABLE AS SELECT",
         {
          "description": null,
          "isManaged": "false",
          "partitionBy": "[]",
          "properties": "{}"
         },
         [
          "532982921670694",
          "ADF_mimicdf_pipeline1_Notebook1_b5136981-b4a0-451f-b2bd-23880ba89c93",
          null,
          "400690372824063",
          "4136898111039167",
          "manual"
         ],
         [
          "2425447914677500"
         ],
         "0427-211807-peyf1m4t",
         1,
         "WriteSerializable",
         false,
         {
          "numFiles": "1",
          "numOutputBytes": "2936",
          "numOutputRows": "31"
         },
         null,
         "Databricks-Runtime/10.4.x-scala2.12"
        ],
        [
         1,
         "2024-04-27T19:01:30Z",
         "760545510687064",
         "vanusakthi@gmail.com",
         "CREATE OR REPLACE TABLE AS SELECT",
         {
          "description": null,
          "isManaged": "false",
          "partitionBy": "[]",
          "properties": "{}",
          "statsOnLoad": "false"
         },
         null,
         [
          "2425447914677500"
         ],
         "0427-132021-qh391zxk",
         0,
         "WriteSerializable",
         false,
         {
          "numFiles": "1",
          "numOutputBytes": "2604",
          "numOutputRows": "31"
         },
         null,
         "Databricks-Runtime/13.3.x-photon-scala2.12"
        ],
        [
         0,
         "2024-04-27T18:33:34Z",
         "4136898111039167",
         "371efd20-b4d6-4aeb-bfef-b65c112f2ba9",
         "CREATE OR REPLACE TABLE AS SELECT",
         {
          "description": null,
          "isManaged": "false",
          "partitionBy": "[]",
          "properties": "{}"
         },
         [
          "318101451921577",
          "ADF_mimicdf_pipeline1_Notebook1_dda02c74-2ca6-4360-82ce-5c511b167a52",
          null,
          "415008752895433",
          "4136898111039167",
          "manual"
         ],
         [
          "2425447914677500"
         ],
         "0427-183056-hemee69g",
         null,
         "WriteSerializable",
         false,
         {
          "numFiles": "1",
          "numOutputBytes": "2936",
          "numOutputRows": "31"
         },
         null,
         "Databricks-Runtime/10.4.x-scala2.12"
        ]
       ],
       "datasetInfos": [],
       "dbfsResultPath": null,
       "isJsonSchema": true,
       "metadata": {
        "dataframeName": "_sqldf",
        "executionCount": 2
       },
       "overflow": false,
       "plotOptions": {
        "customPlotOptions": {},
        "displayType": "table",
        "pivotAggregation": null,
        "pivotColumns": null,
        "xColumns": null,
        "yColumns": null
       },
       "removedWidgets": [],
       "schema": [
        {
         "metadata": "{}",
         "name": "version",
         "type": "\"long\""
        },
        {
         "metadata": "{}",
         "name": "timestamp",
         "type": "\"timestamp\""
        },
        {
         "metadata": "{}",
         "name": "userId",
         "type": "\"string\""
        },
        {
         "metadata": "{}",
         "name": "userName",
         "type": "\"string\""
        },
        {
         "metadata": "{}",
         "name": "operation",
         "type": "\"string\""
        },
        {
         "metadata": "{}",
         "name": "operationParameters",
         "type": "{\"type\":\"map\",\"keyType\":\"string\",\"valueType\":\"string\",\"valueContainsNull\":true}"
        },
        {
         "metadata": "{}",
         "name": "job",
         "type": "{\"type\":\"struct\",\"fields\":[{\"name\":\"jobId\",\"type\":\"string\",\"nullable\":true,\"metadata\":{}},{\"name\":\"jobName\",\"type\":\"string\",\"nullable\":true,\"metadata\":{}},{\"name\":\"jobRunId\",\"type\":\"string\",\"nullable\":true,\"metadata\":{}},{\"name\":\"runId\",\"type\":\"string\",\"nullable\":true,\"metadata\":{}},{\"name\":\"jobOwnerId\",\"type\":\"string\",\"nullable\":true,\"metadata\":{}},{\"name\":\"triggerType\",\"type\":\"string\",\"nullable\":true,\"metadata\":{}}]}"
        },
        {
         "metadata": "{}",
         "name": "notebook",
         "type": "{\"type\":\"struct\",\"fields\":[{\"name\":\"notebookId\",\"type\":\"string\",\"nullable\":true,\"metadata\":{}}]}"
        },
        {
         "metadata": "{}",
         "name": "clusterId",
         "type": "\"string\""
        },
        {
         "metadata": "{}",
         "name": "readVersion",
         "type": "\"long\""
        },
        {
         "metadata": "{}",
         "name": "isolationLevel",
         "type": "\"string\""
        },
        {
         "metadata": "{}",
         "name": "isBlindAppend",
         "type": "\"boolean\""
        },
        {
         "metadata": "{}",
         "name": "operationMetrics",
         "type": "{\"type\":\"map\",\"keyType\":\"string\",\"valueType\":\"string\",\"valueContainsNull\":true}"
        },
        {
         "metadata": "{}",
         "name": "userMetadata",
         "type": "\"string\""
        },
        {
         "metadata": "{}",
         "name": "engineInfo",
         "type": "\"string\""
        }
       ],
       "type": "table"
      }
     },
     "output_type": "display_data"
    }
   ],
   "source": [
    "%sql\n",
    "describe history mimicdb.patientsdeltatable;"
   ]
  },
  {
   "cell_type": "code",
   "execution_count": null,
   "metadata": {
    "application/vnd.databricks.v1+cell": {
     "cellMetadata": {
      "byteLimit": 2048000,
      "implicitDf": true,
      "rowLimit": 10000
     },
     "inputWidgets": {},
     "nuid": "1bdebd78-6a76-4570-bedd-684925414fd2",
     "showTitle": false,
     "title": ""
    }
   },
   "outputs": [
    {
     "data": {
      "text/html": [
       "<style scoped>\n",
       "  .table-result-container {\n",
       "    max-height: 300px;\n",
       "    overflow: auto;\n",
       "  }\n",
       "  table, th, td {\n",
       "    border: 1px solid black;\n",
       "    border-collapse: collapse;\n",
       "  }\n",
       "  th, td {\n",
       "    padding: 5px;\n",
       "  }\n",
       "  th {\n",
       "    text-align: left;\n",
       "  }\n",
       "</style><div class='table-result-container'><table class='table-result'><thead style='background-color: white'><tr><th>num_affected_rows</th><th>num_inserted_rows</th></tr></thead><tbody><tr><td>1</td><td>1</td></tr></tbody></table></div>"
      ]
     },
     "metadata": {
      "application/vnd.databricks.v1+output": {
       "addedWidgets": {},
       "aggData": [],
       "aggError": "",
       "aggOverflow": false,
       "aggSchema": [],
       "aggSeriesLimitReached": false,
       "aggType": "",
       "arguments": {},
       "columnCustomDisplayInfos": {},
       "data": [
        [
         1,
         1
        ]
       ],
       "datasetInfos": [],
       "dbfsResultPath": null,
       "isJsonSchema": true,
       "metadata": {
        "dataframeName": "_sqldf",
        "executionCount": 3
       },
       "overflow": false,
       "plotOptions": {
        "customPlotOptions": {},
        "displayType": "table",
        "pivotAggregation": null,
        "pivotColumns": null,
        "xColumns": null,
        "yColumns": null
       },
       "removedWidgets": [],
       "schema": [
        {
         "metadata": "{}",
         "name": "num_affected_rows",
         "type": "\"long\""
        },
        {
         "metadata": "{}",
         "name": "num_inserted_rows",
         "type": "\"long\""
        }
       ],
       "type": "table"
      }
     },
     "output_type": "display_data"
    }
   ],
   "source": [
    "%sql\n",
    "INSERT INTO mimicdb.patientsdeltatable VALUES (10024045, 'M', 99, '2170', '2011-2013', '2134-10-28', '2024-04-27T21:20:52.867+00:00')"
   ]
  },
  {
   "cell_type": "code",
   "execution_count": null,
   "metadata": {
    "application/vnd.databricks.v1+cell": {
     "cellMetadata": {
      "byteLimit": 2048000,
      "implicitDf": true,
      "rowLimit": 10000
     },
     "inputWidgets": {},
     "nuid": "38971b65-3c90-439e-9066-3f743a92b56d",
     "showTitle": false,
     "title": ""
    }
   },
   "outputs": [
    {
     "data": {
      "text/html": [
       "<style scoped>\n",
       "  .table-result-container {\n",
       "    max-height: 300px;\n",
       "    overflow: auto;\n",
       "  }\n",
       "  table, th, td {\n",
       "    border: 1px solid black;\n",
       "    border-collapse: collapse;\n",
       "  }\n",
       "  th, td {\n",
       "    padding: 5px;\n",
       "  }\n",
       "  th {\n",
       "    text-align: left;\n",
       "  }\n",
       "</style><div class='table-result-container'><table class='table-result'><thead style='background-color: white'><tr><th>version</th><th>timestamp</th><th>userId</th><th>userName</th><th>operation</th><th>operationParameters</th><th>job</th><th>notebook</th><th>clusterId</th><th>readVersion</th><th>isolationLevel</th><th>isBlindAppend</th><th>operationMetrics</th><th>userMetadata</th><th>engineInfo</th></tr></thead><tbody><tr><td>3</td><td>2024-04-27T22:18:42Z</td><td>760545510687064</td><td>vanusakthi@gmail.com</td><td>WRITE</td><td>Map(mode -> Append, statsOnLoad -> false, partitionBy -> [])</td><td>null</td><td>List(2425447914677500)</td><td>0427-132021-qh391zxk</td><td>2</td><td>WriteSerializable</td><td>true</td><td>Map(numFiles -> 1, numOutputRows -> 1, numOutputBytes -> 1767)</td><td>null</td><td>Databricks-Runtime/13.3.x-photon-scala2.12</td></tr><tr><td>2</td><td>2024-04-27T21:21:15Z</td><td>4136898111039167</td><td>371efd20-b4d6-4aeb-bfef-b65c112f2ba9</td><td>CREATE OR REPLACE TABLE AS SELECT</td><td>Map(isManaged -> false, description -> null, partitionBy -> [], properties -> {})</td><td>List(532982921670694, ADF_mimicdf_pipeline1_Notebook1_b5136981-b4a0-451f-b2bd-23880ba89c93, null, 400690372824063, 4136898111039167, manual)</td><td>List(2425447914677500)</td><td>0427-211807-peyf1m4t</td><td>1</td><td>WriteSerializable</td><td>false</td><td>Map(numFiles -> 1, numOutputRows -> 31, numOutputBytes -> 2936)</td><td>null</td><td>Databricks-Runtime/10.4.x-scala2.12</td></tr><tr><td>1</td><td>2024-04-27T19:01:30Z</td><td>760545510687064</td><td>vanusakthi@gmail.com</td><td>CREATE OR REPLACE TABLE AS SELECT</td><td>Map(partitionBy -> [], description -> null, isManaged -> false, properties -> {}, statsOnLoad -> false)</td><td>null</td><td>List(2425447914677500)</td><td>0427-132021-qh391zxk</td><td>0</td><td>WriteSerializable</td><td>false</td><td>Map(numFiles -> 1, numOutputRows -> 31, numOutputBytes -> 2604)</td><td>null</td><td>Databricks-Runtime/13.3.x-photon-scala2.12</td></tr><tr><td>0</td><td>2024-04-27T18:33:34Z</td><td>4136898111039167</td><td>371efd20-b4d6-4aeb-bfef-b65c112f2ba9</td><td>CREATE OR REPLACE TABLE AS SELECT</td><td>Map(isManaged -> false, description -> null, partitionBy -> [], properties -> {})</td><td>List(318101451921577, ADF_mimicdf_pipeline1_Notebook1_dda02c74-2ca6-4360-82ce-5c511b167a52, null, 415008752895433, 4136898111039167, manual)</td><td>List(2425447914677500)</td><td>0427-183056-hemee69g</td><td>null</td><td>WriteSerializable</td><td>false</td><td>Map(numFiles -> 1, numOutputRows -> 31, numOutputBytes -> 2936)</td><td>null</td><td>Databricks-Runtime/10.4.x-scala2.12</td></tr></tbody></table></div>"
      ]
     },
     "metadata": {
      "application/vnd.databricks.v1+output": {
       "addedWidgets": {},
       "aggData": [],
       "aggError": "",
       "aggOverflow": false,
       "aggSchema": [],
       "aggSeriesLimitReached": false,
       "aggType": "",
       "arguments": {},
       "columnCustomDisplayInfos": {},
       "data": [
        [
         3,
         "2024-04-27T22:18:42Z",
         "760545510687064",
         "vanusakthi@gmail.com",
         "WRITE",
         {
          "mode": "Append",
          "partitionBy": "[]",
          "statsOnLoad": "false"
         },
         null,
         [
          "2425447914677500"
         ],
         "0427-132021-qh391zxk",
         2,
         "WriteSerializable",
         true,
         {
          "numFiles": "1",
          "numOutputBytes": "1767",
          "numOutputRows": "1"
         },
         null,
         "Databricks-Runtime/13.3.x-photon-scala2.12"
        ],
        [
         2,
         "2024-04-27T21:21:15Z",
         "4136898111039167",
         "371efd20-b4d6-4aeb-bfef-b65c112f2ba9",
         "CREATE OR REPLACE TABLE AS SELECT",
         {
          "description": null,
          "isManaged": "false",
          "partitionBy": "[]",
          "properties": "{}"
         },
         [
          "532982921670694",
          "ADF_mimicdf_pipeline1_Notebook1_b5136981-b4a0-451f-b2bd-23880ba89c93",
          null,
          "400690372824063",
          "4136898111039167",
          "manual"
         ],
         [
          "2425447914677500"
         ],
         "0427-211807-peyf1m4t",
         1,
         "WriteSerializable",
         false,
         {
          "numFiles": "1",
          "numOutputBytes": "2936",
          "numOutputRows": "31"
         },
         null,
         "Databricks-Runtime/10.4.x-scala2.12"
        ],
        [
         1,
         "2024-04-27T19:01:30Z",
         "760545510687064",
         "vanusakthi@gmail.com",
         "CREATE OR REPLACE TABLE AS SELECT",
         {
          "description": null,
          "isManaged": "false",
          "partitionBy": "[]",
          "properties": "{}",
          "statsOnLoad": "false"
         },
         null,
         [
          "2425447914677500"
         ],
         "0427-132021-qh391zxk",
         0,
         "WriteSerializable",
         false,
         {
          "numFiles": "1",
          "numOutputBytes": "2604",
          "numOutputRows": "31"
         },
         null,
         "Databricks-Runtime/13.3.x-photon-scala2.12"
        ],
        [
         0,
         "2024-04-27T18:33:34Z",
         "4136898111039167",
         "371efd20-b4d6-4aeb-bfef-b65c112f2ba9",
         "CREATE OR REPLACE TABLE AS SELECT",
         {
          "description": null,
          "isManaged": "false",
          "partitionBy": "[]",
          "properties": "{}"
         },
         [
          "318101451921577",
          "ADF_mimicdf_pipeline1_Notebook1_dda02c74-2ca6-4360-82ce-5c511b167a52",
          null,
          "415008752895433",
          "4136898111039167",
          "manual"
         ],
         [
          "2425447914677500"
         ],
         "0427-183056-hemee69g",
         null,
         "WriteSerializable",
         false,
         {
          "numFiles": "1",
          "numOutputBytes": "2936",
          "numOutputRows": "31"
         },
         null,
         "Databricks-Runtime/10.4.x-scala2.12"
        ]
       ],
       "datasetInfos": [],
       "dbfsResultPath": null,
       "isJsonSchema": true,
       "metadata": {
        "dataframeName": "_sqldf",
        "executionCount": 7
       },
       "overflow": false,
       "plotOptions": {
        "customPlotOptions": {},
        "displayType": "table",
        "pivotAggregation": null,
        "pivotColumns": null,
        "xColumns": null,
        "yColumns": null
       },
       "removedWidgets": [],
       "schema": [
        {
         "metadata": "{}",
         "name": "version",
         "type": "\"long\""
        },
        {
         "metadata": "{}",
         "name": "timestamp",
         "type": "\"timestamp\""
        },
        {
         "metadata": "{}",
         "name": "userId",
         "type": "\"string\""
        },
        {
         "metadata": "{}",
         "name": "userName",
         "type": "\"string\""
        },
        {
         "metadata": "{}",
         "name": "operation",
         "type": "\"string\""
        },
        {
         "metadata": "{}",
         "name": "operationParameters",
         "type": "{\"type\":\"map\",\"keyType\":\"string\",\"valueType\":\"string\",\"valueContainsNull\":true}"
        },
        {
         "metadata": "{}",
         "name": "job",
         "type": "{\"type\":\"struct\",\"fields\":[{\"name\":\"jobId\",\"type\":\"string\",\"nullable\":true,\"metadata\":{}},{\"name\":\"jobName\",\"type\":\"string\",\"nullable\":true,\"metadata\":{}},{\"name\":\"jobRunId\",\"type\":\"string\",\"nullable\":true,\"metadata\":{}},{\"name\":\"runId\",\"type\":\"string\",\"nullable\":true,\"metadata\":{}},{\"name\":\"jobOwnerId\",\"type\":\"string\",\"nullable\":true,\"metadata\":{}},{\"name\":\"triggerType\",\"type\":\"string\",\"nullable\":true,\"metadata\":{}}]}"
        },
        {
         "metadata": "{}",
         "name": "notebook",
         "type": "{\"type\":\"struct\",\"fields\":[{\"name\":\"notebookId\",\"type\":\"string\",\"nullable\":true,\"metadata\":{}}]}"
        },
        {
         "metadata": "{}",
         "name": "clusterId",
         "type": "\"string\""
        },
        {
         "metadata": "{}",
         "name": "readVersion",
         "type": "\"long\""
        },
        {
         "metadata": "{}",
         "name": "isolationLevel",
         "type": "\"string\""
        },
        {
         "metadata": "{}",
         "name": "isBlindAppend",
         "type": "\"boolean\""
        },
        {
         "metadata": "{}",
         "name": "operationMetrics",
         "type": "{\"type\":\"map\",\"keyType\":\"string\",\"valueType\":\"string\",\"valueContainsNull\":true}"
        },
        {
         "metadata": "{}",
         "name": "userMetadata",
         "type": "\"string\""
        },
        {
         "metadata": "{}",
         "name": "engineInfo",
         "type": "\"string\""
        }
       ],
       "type": "table"
      }
     },
     "output_type": "display_data"
    }
   ],
   "source": [
    "%sql\n",
    "describe history mimicdb.patientsdeltatable;"
   ]
  },
  {
   "cell_type": "code",
   "execution_count": null,
   "metadata": {
    "application/vnd.databricks.v1+cell": {
     "cellMetadata": {
      "byteLimit": 2048000,
      "implicitDf": true,
      "rowLimit": 10000
     },
     "inputWidgets": {},
     "nuid": "5f37916a-b6ba-4ec0-9349-533c32d5e8c6",
     "showTitle": false,
     "title": ""
    }
   },
   "outputs": [
    {
     "data": {
      "text/html": [
       "<style scoped>\n",
       "  .table-result-container {\n",
       "    max-height: 300px;\n",
       "    overflow: auto;\n",
       "  }\n",
       "  table, th, td {\n",
       "    border: 1px solid black;\n",
       "    border-collapse: collapse;\n",
       "  }\n",
       "  th, td {\n",
       "    padding: 5px;\n",
       "  }\n",
       "  th {\n",
       "    text-align: left;\n",
       "  }\n",
       "</style><div class='table-result-container'><table class='table-result'><thead style='background-color: white'><tr><th>subject_id</th><th>gender</th><th>anchor_age</th><th>anchor_year</th><th>anchor_year_group</th><th>dod</th><th>ingest_date</th></tr></thead><tbody><tr><td>10031757</td><td>F</td><td>67</td><td>2137</td><td>2014 - 2016</td><td>2137-10-31</td><td>2024-04-27T21:20:52.867Z</td></tr></tbody></table></div>"
      ]
     },
     "metadata": {
      "application/vnd.databricks.v1+output": {
       "addedWidgets": {},
       "aggData": [],
       "aggError": "",
       "aggOverflow": false,
       "aggSchema": [],
       "aggSeriesLimitReached": false,
       "aggType": "",
       "arguments": {},
       "columnCustomDisplayInfos": {},
       "data": [
        [
         10031757,
         "F",
         67,
         "2137",
         "2014 - 2016",
         "2137-10-31",
         "2024-04-27T21:20:52.867Z"
        ]
       ],
       "datasetInfos": [],
       "dbfsResultPath": null,
       "isJsonSchema": true,
       "metadata": {
        "dataframeName": "_sqldf",
        "executionCount": 9
       },
       "overflow": false,
       "plotOptions": {
        "customPlotOptions": {},
        "displayType": "table",
        "pivotAggregation": null,
        "pivotColumns": null,
        "xColumns": null,
        "yColumns": null
       },
       "removedWidgets": [],
       "schema": [
        {
         "metadata": "{}",
         "name": "subject_id",
         "type": "\"integer\""
        },
        {
         "metadata": "{}",
         "name": "gender",
         "type": "\"string\""
        },
        {
         "metadata": "{}",
         "name": "anchor_age",
         "type": "\"integer\""
        },
        {
         "metadata": "{}",
         "name": "anchor_year",
         "type": "\"string\""
        },
        {
         "metadata": "{}",
         "name": "anchor_year_group",
         "type": "\"string\""
        },
        {
         "metadata": "{}",
         "name": "dod",
         "type": "\"string\""
        },
        {
         "metadata": "{}",
         "name": "ingest_date",
         "type": "\"timestamp\""
        }
       ],
       "type": "table"
      }
     },
     "output_type": "display_data"
    }
   ],
   "source": [
    "%sql\n",
    "select * from mimicdb.patientsdeltatable where subject_id=10031757;"
   ]
  },
  {
   "cell_type": "code",
   "execution_count": null,
   "metadata": {
    "application/vnd.databricks.v1+cell": {
     "cellMetadata": {
      "byteLimit": 2048000,
      "implicitDf": true,
      "rowLimit": 10000
     },
     "inputWidgets": {},
     "nuid": "b173d453-3d73-4c90-a208-a0b94a84a0c3",
     "showTitle": false,
     "title": ""
    }
   },
   "outputs": [
    {
     "data": {
      "text/html": [
       "<style scoped>\n",
       "  .table-result-container {\n",
       "    max-height: 300px;\n",
       "    overflow: auto;\n",
       "  }\n",
       "  table, th, td {\n",
       "    border: 1px solid black;\n",
       "    border-collapse: collapse;\n",
       "  }\n",
       "  th, td {\n",
       "    padding: 5px;\n",
       "  }\n",
       "  th {\n",
       "    text-align: left;\n",
       "  }\n",
       "</style><div class='table-result-container'><table class='table-result'><thead style='background-color: white'><tr><th>num_affected_rows</th></tr></thead><tbody><tr><td>1</td></tr></tbody></table></div>"
      ]
     },
     "metadata": {
      "application/vnd.databricks.v1+output": {
       "addedWidgets": {},
       "aggData": [],
       "aggError": "",
       "aggOverflow": false,
       "aggSchema": [],
       "aggSeriesLimitReached": false,
       "aggType": "",
       "arguments": {},
       "columnCustomDisplayInfos": {},
       "data": [
        [
         1
        ]
       ],
       "datasetInfos": [],
       "dbfsResultPath": null,
       "isJsonSchema": true,
       "metadata": {
        "dataframeName": "_sqldf",
        "executionCount": 10
       },
       "overflow": false,
       "plotOptions": {
        "customPlotOptions": {},
        "displayType": "table",
        "pivotAggregation": null,
        "pivotColumns": null,
        "xColumns": null,
        "yColumns": null
       },
       "removedWidgets": [],
       "schema": [
        {
         "metadata": "{}",
         "name": "num_affected_rows",
         "type": "\"long\""
        }
       ],
       "type": "table"
      }
     },
     "output_type": "display_data"
    }
   ],
   "source": [
    "%sql\n",
    "update mimicdb.patientsdeltatable set gender ='M' where subject_id=10031757;"
   ]
  },
  {
   "cell_type": "code",
   "execution_count": null,
   "metadata": {
    "application/vnd.databricks.v1+cell": {
     "cellMetadata": {
      "byteLimit": 2048000,
      "implicitDf": true,
      "rowLimit": 10000
     },
     "inputWidgets": {},
     "nuid": "9f4921d6-891a-4b21-94d9-2eae28c11ac1",
     "showTitle": false,
     "title": ""
    }
   },
   "outputs": [
    {
     "data": {
      "text/html": [
       "<style scoped>\n",
       "  .table-result-container {\n",
       "    max-height: 300px;\n",
       "    overflow: auto;\n",
       "  }\n",
       "  table, th, td {\n",
       "    border: 1px solid black;\n",
       "    border-collapse: collapse;\n",
       "  }\n",
       "  th, td {\n",
       "    padding: 5px;\n",
       "  }\n",
       "  th {\n",
       "    text-align: left;\n",
       "  }\n",
       "</style><div class='table-result-container'><table class='table-result'><thead style='background-color: white'><tr><th>subject_id</th><th>gender</th><th>anchor_age</th><th>anchor_year</th><th>anchor_year_group</th><th>dod</th><th>ingest_date</th></tr></thead><tbody><tr><td>10031757</td><td>M</td><td>67</td><td>2137</td><td>2014 - 2016</td><td>2137-10-31</td><td>2024-04-27T21:20:52.867Z</td></tr></tbody></table></div>"
      ]
     },
     "metadata": {
      "application/vnd.databricks.v1+output": {
       "addedWidgets": {},
       "aggData": [],
       "aggError": "",
       "aggOverflow": false,
       "aggSchema": [],
       "aggSeriesLimitReached": false,
       "aggType": "",
       "arguments": {},
       "columnCustomDisplayInfos": {},
       "data": [
        [
         10031757,
         "M",
         67,
         "2137",
         "2014 - 2016",
         "2137-10-31",
         "2024-04-27T21:20:52.867Z"
        ]
       ],
       "datasetInfos": [],
       "dbfsResultPath": null,
       "isJsonSchema": true,
       "metadata": {
        "dataframeName": "_sqldf",
        "executionCount": 11
       },
       "overflow": false,
       "plotOptions": {
        "customPlotOptions": {},
        "displayType": "table",
        "pivotAggregation": null,
        "pivotColumns": null,
        "xColumns": null,
        "yColumns": null
       },
       "removedWidgets": [],
       "schema": [
        {
         "metadata": "{}",
         "name": "subject_id",
         "type": "\"integer\""
        },
        {
         "metadata": "{}",
         "name": "gender",
         "type": "\"string\""
        },
        {
         "metadata": "{}",
         "name": "anchor_age",
         "type": "\"integer\""
        },
        {
         "metadata": "{}",
         "name": "anchor_year",
         "type": "\"string\""
        },
        {
         "metadata": "{}",
         "name": "anchor_year_group",
         "type": "\"string\""
        },
        {
         "metadata": "{}",
         "name": "dod",
         "type": "\"string\""
        },
        {
         "metadata": "{}",
         "name": "ingest_date",
         "type": "\"timestamp\""
        }
       ],
       "type": "table"
      }
     },
     "output_type": "display_data"
    }
   ],
   "source": [
    "%sql\n",
    "select * from mimicdb.patientsdeltatable where subject_id=10031757;"
   ]
  },
  {
   "cell_type": "code",
   "execution_count": null,
   "metadata": {
    "application/vnd.databricks.v1+cell": {
     "cellMetadata": {
      "byteLimit": 2048000,
      "implicitDf": true,
      "rowLimit": 10000
     },
     "inputWidgets": {},
     "nuid": "518a50b4-6fad-4e12-84c7-0dc266b34629",
     "showTitle": false,
     "title": ""
    }
   },
   "outputs": [
    {
     "data": {
      "text/html": [
       "<style scoped>\n",
       "  .table-result-container {\n",
       "    max-height: 300px;\n",
       "    overflow: auto;\n",
       "  }\n",
       "  table, th, td {\n",
       "    border: 1px solid black;\n",
       "    border-collapse: collapse;\n",
       "  }\n",
       "  th, td {\n",
       "    padding: 5px;\n",
       "  }\n",
       "  th {\n",
       "    text-align: left;\n",
       "  }\n",
       "</style><div class='table-result-container'><table class='table-result'><thead style='background-color: white'><tr><th>version</th><th>timestamp</th><th>userId</th><th>userName</th><th>operation</th><th>operationParameters</th><th>job</th><th>notebook</th><th>clusterId</th><th>readVersion</th><th>isolationLevel</th><th>isBlindAppend</th><th>operationMetrics</th><th>userMetadata</th><th>engineInfo</th></tr></thead><tbody><tr><td>4</td><td>2024-04-27T22:29:45Z</td><td>760545510687064</td><td>vanusakthi@gmail.com</td><td>UPDATE</td><td>Map(predicate -> [\"(subject_id#2452 = 10031757)\"])</td><td>null</td><td>List(2425447914677500)</td><td>0427-132021-qh391zxk</td><td>3</td><td>WriteSerializable</td><td>false</td><td>Map(numRemovedFiles -> 1, numRemovedBytes -> 2936, numCopiedRows -> 30, numDeletionVectorsAdded -> 0, numDeletionVectorsRemoved -> 0, numAddedChangeFiles -> 0, executionTimeMs -> 1857, scanTimeMs -> 1119, numAddedFiles -> 1, numUpdatedRows -> 1, numAddedBytes -> 2616, rewriteTimeMs -> 726)</td><td>null</td><td>Databricks-Runtime/13.3.x-photon-scala2.12</td></tr><tr><td>3</td><td>2024-04-27T22:18:42Z</td><td>760545510687064</td><td>vanusakthi@gmail.com</td><td>WRITE</td><td>Map(mode -> Append, statsOnLoad -> false, partitionBy -> [])</td><td>null</td><td>List(2425447914677500)</td><td>0427-132021-qh391zxk</td><td>2</td><td>WriteSerializable</td><td>true</td><td>Map(numFiles -> 1, numOutputRows -> 1, numOutputBytes -> 1767)</td><td>null</td><td>Databricks-Runtime/13.3.x-photon-scala2.12</td></tr><tr><td>2</td><td>2024-04-27T21:21:15Z</td><td>4136898111039167</td><td>371efd20-b4d6-4aeb-bfef-b65c112f2ba9</td><td>CREATE OR REPLACE TABLE AS SELECT</td><td>Map(isManaged -> false, description -> null, partitionBy -> [], properties -> {})</td><td>List(532982921670694, ADF_mimicdf_pipeline1_Notebook1_b5136981-b4a0-451f-b2bd-23880ba89c93, null, 400690372824063, 4136898111039167, manual)</td><td>List(2425447914677500)</td><td>0427-211807-peyf1m4t</td><td>1</td><td>WriteSerializable</td><td>false</td><td>Map(numFiles -> 1, numOutputRows -> 31, numOutputBytes -> 2936)</td><td>null</td><td>Databricks-Runtime/10.4.x-scala2.12</td></tr><tr><td>1</td><td>2024-04-27T19:01:30Z</td><td>760545510687064</td><td>vanusakthi@gmail.com</td><td>CREATE OR REPLACE TABLE AS SELECT</td><td>Map(partitionBy -> [], description -> null, isManaged -> false, properties -> {}, statsOnLoad -> false)</td><td>null</td><td>List(2425447914677500)</td><td>0427-132021-qh391zxk</td><td>0</td><td>WriteSerializable</td><td>false</td><td>Map(numFiles -> 1, numOutputRows -> 31, numOutputBytes -> 2604)</td><td>null</td><td>Databricks-Runtime/13.3.x-photon-scala2.12</td></tr><tr><td>0</td><td>2024-04-27T18:33:34Z</td><td>4136898111039167</td><td>371efd20-b4d6-4aeb-bfef-b65c112f2ba9</td><td>CREATE OR REPLACE TABLE AS SELECT</td><td>Map(isManaged -> false, description -> null, partitionBy -> [], properties -> {})</td><td>List(318101451921577, ADF_mimicdf_pipeline1_Notebook1_dda02c74-2ca6-4360-82ce-5c511b167a52, null, 415008752895433, 4136898111039167, manual)</td><td>List(2425447914677500)</td><td>0427-183056-hemee69g</td><td>null</td><td>WriteSerializable</td><td>false</td><td>Map(numFiles -> 1, numOutputRows -> 31, numOutputBytes -> 2936)</td><td>null</td><td>Databricks-Runtime/10.4.x-scala2.12</td></tr></tbody></table></div>"
      ]
     },
     "metadata": {
      "application/vnd.databricks.v1+output": {
       "addedWidgets": {},
       "aggData": [],
       "aggError": "",
       "aggOverflow": false,
       "aggSchema": [],
       "aggSeriesLimitReached": false,
       "aggType": "",
       "arguments": {},
       "columnCustomDisplayInfos": {},
       "data": [
        [
         4,
         "2024-04-27T22:29:45Z",
         "760545510687064",
         "vanusakthi@gmail.com",
         "UPDATE",
         {
          "predicate": "[\"(subject_id#2452 = 10031757)\"]"
         },
         null,
         [
          "2425447914677500"
         ],
         "0427-132021-qh391zxk",
         3,
         "WriteSerializable",
         false,
         {
          "executionTimeMs": "1857",
          "numAddedBytes": "2616",
          "numAddedChangeFiles": "0",
          "numAddedFiles": "1",
          "numCopiedRows": "30",
          "numDeletionVectorsAdded": "0",
          "numDeletionVectorsRemoved": "0",
          "numRemovedBytes": "2936",
          "numRemovedFiles": "1",
          "numUpdatedRows": "1",
          "rewriteTimeMs": "726",
          "scanTimeMs": "1119"
         },
         null,
         "Databricks-Runtime/13.3.x-photon-scala2.12"
        ],
        [
         3,
         "2024-04-27T22:18:42Z",
         "760545510687064",
         "vanusakthi@gmail.com",
         "WRITE",
         {
          "mode": "Append",
          "partitionBy": "[]",
          "statsOnLoad": "false"
         },
         null,
         [
          "2425447914677500"
         ],
         "0427-132021-qh391zxk",
         2,
         "WriteSerializable",
         true,
         {
          "numFiles": "1",
          "numOutputBytes": "1767",
          "numOutputRows": "1"
         },
         null,
         "Databricks-Runtime/13.3.x-photon-scala2.12"
        ],
        [
         2,
         "2024-04-27T21:21:15Z",
         "4136898111039167",
         "371efd20-b4d6-4aeb-bfef-b65c112f2ba9",
         "CREATE OR REPLACE TABLE AS SELECT",
         {
          "description": null,
          "isManaged": "false",
          "partitionBy": "[]",
          "properties": "{}"
         },
         [
          "532982921670694",
          "ADF_mimicdf_pipeline1_Notebook1_b5136981-b4a0-451f-b2bd-23880ba89c93",
          null,
          "400690372824063",
          "4136898111039167",
          "manual"
         ],
         [
          "2425447914677500"
         ],
         "0427-211807-peyf1m4t",
         1,
         "WriteSerializable",
         false,
         {
          "numFiles": "1",
          "numOutputBytes": "2936",
          "numOutputRows": "31"
         },
         null,
         "Databricks-Runtime/10.4.x-scala2.12"
        ],
        [
         1,
         "2024-04-27T19:01:30Z",
         "760545510687064",
         "vanusakthi@gmail.com",
         "CREATE OR REPLACE TABLE AS SELECT",
         {
          "description": null,
          "isManaged": "false",
          "partitionBy": "[]",
          "properties": "{}",
          "statsOnLoad": "false"
         },
         null,
         [
          "2425447914677500"
         ],
         "0427-132021-qh391zxk",
         0,
         "WriteSerializable",
         false,
         {
          "numFiles": "1",
          "numOutputBytes": "2604",
          "numOutputRows": "31"
         },
         null,
         "Databricks-Runtime/13.3.x-photon-scala2.12"
        ],
        [
         0,
         "2024-04-27T18:33:34Z",
         "4136898111039167",
         "371efd20-b4d6-4aeb-bfef-b65c112f2ba9",
         "CREATE OR REPLACE TABLE AS SELECT",
         {
          "description": null,
          "isManaged": "false",
          "partitionBy": "[]",
          "properties": "{}"
         },
         [
          "318101451921577",
          "ADF_mimicdf_pipeline1_Notebook1_dda02c74-2ca6-4360-82ce-5c511b167a52",
          null,
          "415008752895433",
          "4136898111039167",
          "manual"
         ],
         [
          "2425447914677500"
         ],
         "0427-183056-hemee69g",
         null,
         "WriteSerializable",
         false,
         {
          "numFiles": "1",
          "numOutputBytes": "2936",
          "numOutputRows": "31"
         },
         null,
         "Databricks-Runtime/10.4.x-scala2.12"
        ]
       ],
       "datasetInfos": [],
       "dbfsResultPath": null,
       "isJsonSchema": true,
       "metadata": {
        "dataframeName": "_sqldf",
        "executionCount": 12
       },
       "overflow": false,
       "plotOptions": {
        "customPlotOptions": {},
        "displayType": "table",
        "pivotAggregation": null,
        "pivotColumns": null,
        "xColumns": null,
        "yColumns": null
       },
       "removedWidgets": [],
       "schema": [
        {
         "metadata": "{}",
         "name": "version",
         "type": "\"long\""
        },
        {
         "metadata": "{}",
         "name": "timestamp",
         "type": "\"timestamp\""
        },
        {
         "metadata": "{}",
         "name": "userId",
         "type": "\"string\""
        },
        {
         "metadata": "{}",
         "name": "userName",
         "type": "\"string\""
        },
        {
         "metadata": "{}",
         "name": "operation",
         "type": "\"string\""
        },
        {
         "metadata": "{}",
         "name": "operationParameters",
         "type": "{\"type\":\"map\",\"keyType\":\"string\",\"valueType\":\"string\",\"valueContainsNull\":true}"
        },
        {
         "metadata": "{}",
         "name": "job",
         "type": "{\"type\":\"struct\",\"fields\":[{\"name\":\"jobId\",\"type\":\"string\",\"nullable\":true,\"metadata\":{}},{\"name\":\"jobName\",\"type\":\"string\",\"nullable\":true,\"metadata\":{}},{\"name\":\"jobRunId\",\"type\":\"string\",\"nullable\":true,\"metadata\":{}},{\"name\":\"runId\",\"type\":\"string\",\"nullable\":true,\"metadata\":{}},{\"name\":\"jobOwnerId\",\"type\":\"string\",\"nullable\":true,\"metadata\":{}},{\"name\":\"triggerType\",\"type\":\"string\",\"nullable\":true,\"metadata\":{}}]}"
        },
        {
         "metadata": "{}",
         "name": "notebook",
         "type": "{\"type\":\"struct\",\"fields\":[{\"name\":\"notebookId\",\"type\":\"string\",\"nullable\":true,\"metadata\":{}}]}"
        },
        {
         "metadata": "{}",
         "name": "clusterId",
         "type": "\"string\""
        },
        {
         "metadata": "{}",
         "name": "readVersion",
         "type": "\"long\""
        },
        {
         "metadata": "{}",
         "name": "isolationLevel",
         "type": "\"string\""
        },
        {
         "metadata": "{}",
         "name": "isBlindAppend",
         "type": "\"boolean\""
        },
        {
         "metadata": "{}",
         "name": "operationMetrics",
         "type": "{\"type\":\"map\",\"keyType\":\"string\",\"valueType\":\"string\",\"valueContainsNull\":true}"
        },
        {
         "metadata": "{}",
         "name": "userMetadata",
         "type": "\"string\""
        },
        {
         "metadata": "{}",
         "name": "engineInfo",
         "type": "\"string\""
        }
       ],
       "type": "table"
      }
     },
     "output_type": "display_data"
    }
   ],
   "source": [
    "%sql\n",
    "describe history mimicdb.patientsdeltatable;"
   ]
  },
  {
   "cell_type": "code",
   "execution_count": null,
   "metadata": {
    "application/vnd.databricks.v1+cell": {
     "cellMetadata": {
      "byteLimit": 2048000,
      "implicitDf": true,
      "rowLimit": 10000
     },
     "inputWidgets": {},
     "nuid": "99c93664-6668-4a0b-a3d3-6669c7ee13b1",
     "showTitle": false,
     "title": ""
    }
   },
   "outputs": [
    {
     "data": {
      "text/html": [
       "<style scoped>\n",
       "  .table-result-container {\n",
       "    max-height: 300px;\n",
       "    overflow: auto;\n",
       "  }\n",
       "  table, th, td {\n",
       "    border: 1px solid black;\n",
       "    border-collapse: collapse;\n",
       "  }\n",
       "  th, td {\n",
       "    padding: 5px;\n",
       "  }\n",
       "  th {\n",
       "    text-align: left;\n",
       "  }\n",
       "</style><div class='table-result-container'><table class='table-result'><thead style='background-color: white'><tr><th>num_affected_rows</th></tr></thead><tbody><tr><td>1</td></tr></tbody></table></div>"
      ]
     },
     "metadata": {
      "application/vnd.databricks.v1+output": {
       "addedWidgets": {},
       "aggData": [],
       "aggError": "",
       "aggOverflow": false,
       "aggSchema": [],
       "aggSeriesLimitReached": false,
       "aggType": "",
       "arguments": {},
       "columnCustomDisplayInfos": {},
       "data": [
        [
         1
        ]
       ],
       "datasetInfos": [],
       "dbfsResultPath": null,
       "isJsonSchema": true,
       "metadata": {
        "dataframeName": "_sqldf",
        "executionCount": 13
       },
       "overflow": false,
       "plotOptions": {
        "customPlotOptions": {},
        "displayType": "table",
        "pivotAggregation": null,
        "pivotColumns": null,
        "xColumns": null,
        "yColumns": null
       },
       "removedWidgets": [],
       "schema": [
        {
         "metadata": "{}",
         "name": "num_affected_rows",
         "type": "\"long\""
        }
       ],
       "type": "table"
      }
     },
     "output_type": "display_data"
    }
   ],
   "source": [
    "%sql\n",
    "delete from mimicdb.patientsdeltatable where subject_id=10024045"
   ]
  },
  {
   "cell_type": "markdown",
   "metadata": {
    "application/vnd.databricks.v1+cell": {
     "cellMetadata": {
      "byteLimit": 2048000,
      "rowLimit": 10000
     },
     "inputWidgets": {},
     "nuid": "c40ce0b6-3d5a-4fb8-81c8-4e6823a254e4",
     "showTitle": false,
     "title": ""
    }
   },
   "source": [
    "Joining Admissions and Patients dataframe for optimisation "
   ]
  },
  {
   "cell_type": "code",
   "execution_count": null,
   "metadata": {
    "application/vnd.databricks.v1+cell": {
     "cellMetadata": {
      "byteLimit": 2048000,
      "rowLimit": 10000
     },
     "inputWidgets": {},
     "nuid": "cc2af285-64db-408d-930e-34294d6b056a",
     "showTitle": false,
     "title": ""
    }
   },
   "outputs": [],
   "source": [
    "merged_df = admissions_distinct.join(patients_distinct, \"subject_id\")"
   ]
  },
  {
   "cell_type": "code",
   "execution_count": null,
   "metadata": {
    "application/vnd.databricks.v1+cell": {
     "cellMetadata": {
      "byteLimit": 2048000,
      "rowLimit": 10000
     },
     "inputWidgets": {},
     "nuid": "b55c98f3-99ee-45ba-ae6e-a9149cbe116e",
     "showTitle": false,
     "title": ""
    }
   },
   "outputs": [
    {
     "name": "stdout",
     "output_type": "stream",
     "text": [
      "+------+--------------+\n",
      "|gender|count_subjects|\n",
      "+------+--------------+\n",
      "|     F|            43|\n",
      "|     M|            57|\n",
      "+------+--------------+\n",
      "\n"
     ]
    }
   ],
   "source": [
    "from pyspark.sql.functions import countDistinct\n",
    "\n",
    "# Usecase1\n",
    "gender_admitted_df = merged_df.groupBy(\"gender\").agg(countDistinct(\"subject_id\").alias(\"count_subjects\"))\n",
    "# Repartition the DataFrame before writing\n",
    "gender_admitted_df = gender_admitted_df.coalesce(1)\n",
    "gender_admitted_df.show()\n",
    "# Write the DataFrame to Delta Lake\n",
    "gender_admitted_df.write.mode(\"overwrite\").format(\"delta\").option(\"path\",\"/mnt/mimic/processed/Gender_admissions.delta\").saveAsTable(\"mimicdbreports.usecase1\")\n"
   ]
  },
  {
   "cell_type": "code",
   "execution_count": null,
   "metadata": {
    "application/vnd.databricks.v1+cell": {
     "cellMetadata": {
      "byteLimit": 2048000,
      "rowLimit": 10000
     },
     "inputWidgets": {},
     "nuid": "b193562c-f1d2-45f5-bac2-e3d77657cad5",
     "showTitle": false,
     "title": ""
    }
   },
   "outputs": [
    {
     "name": "stdout",
     "output_type": "stream",
     "text": [
      "+------+--------------+\n",
      "|gender|count_subjects|\n",
      "+------+--------------+\n",
      "|     F|             3|\n",
      "|     M|            12|\n",
      "+------+--------------+\n",
      "\n"
     ]
    }
   ],
   "source": [
    "from pyspark.sql.functions import countDistinct\n",
    "\n",
    "#Usecase2 Male death vs Female death\n",
    "gender_death_df =  merged_df \\\n",
    "        .where(df_admissions[\"hospital_expire_flag\"] == 1) \\\n",
    "        .groupBy(\"gender\").agg(countDistinct(\"subject_id\").alias(\"count_subjects\"))\n",
    "# Repartition the DataFrame before writing\n",
    "gender_death_df = gender_death_df.coalesce(1)\n",
    "gender_death_df.show()\n",
    "# Write the DataFrame to Delta Lake\n",
    "gender_death_df.write.mode(\"overwrite\").format(\"delta\").option(\"path\",\"/mnt/mimic/processed/Gender_death.delta\").saveAsTable(\"mimicdbreports.usecase2\")"
   ]
  },
  {
   "cell_type": "code",
   "execution_count": null,
   "metadata": {
    "application/vnd.databricks.v1+cell": {
     "cellMetadata": {
      "byteLimit": 2048000,
      "rowLimit": 10000
     },
     "inputWidgets": {},
     "nuid": "3e6cf269-9479-4acb-8e50-1adab67cb9c3",
     "showTitle": false,
     "title": ""
    }
   },
   "outputs": [
    {
     "name": "stdout",
     "output_type": "stream",
     "text": [
      "+--------------------+--------------------+-------------+\n",
      "|  admission_location|  discharge_location|count_hadm_id|\n",
      "+--------------------+--------------------+-------------+\n",
      "|TRANSFER FROM HOS...|CHRONIC/LONG TERM...|            1|\n",
      "|                PACU|                HOME|            1|\n",
      "|      EMERGENCY ROOM|             HOSPICE|            3|\n",
      "|      EMERGENCY ROOM|      AGAINST ADVICE|            2|\n",
      "|      PROCEDURE SITE|               REHAB|            1|\n",
      "|      PROCEDURE SITE|                NULL|            3|\n",
      "|      EMERGENCY ROOM|    HOME HEALTH CARE|           32|\n",
      "|  PHYSICIAN REFERRAL|    HOME HEALTH CARE|           21|\n",
      "|      EMERGENCY ROOM|                NULL|           18|\n",
      "|     CLINIC REFERRAL|                HOME|            3|\n",
      "|TRANSFER FROM HOS...|               REHAB|            2|\n",
      "|      EMERGENCY ROOM|      PSYCH FACILITY|            2|\n",
      "|TRANSFER FROM HOS...|      ACUTE HOSPITAL|            1|\n",
      "|INTERNAL TRANSFER...|                HOME|            2|\n",
      "|  PHYSICIAN REFERRAL|                NULL|           13|\n",
      "|      EMERGENCY ROOM|                DIED|            7|\n",
      "|      PROCEDURE SITE|SKILLED NURSING F...|            1|\n",
      "|     CLINIC REFERRAL|    HOME HEALTH CARE|            4|\n",
      "|  PHYSICIAN REFERRAL|               REHAB|            3|\n",
      "|  PHYSICIAN REFERRAL|                DIED|            1|\n",
      "+--------------------+--------------------+-------------+\n",
      "only showing top 20 rows\n",
      "\n"
     ]
    }
   ],
   "source": [
    "#Usecase3 Admission location Discharge location stats\n",
    "discharge_location_df =  merged_df \\\n",
    "        .groupBy(\"discharge_location\").agg(countDistinct(\"hadm_id\").alias(\"count_hadm_id\"))\n",
    "admission_discharge_df =  merged_df \\\n",
    "        .groupBy(\"admission_location\", \"discharge_location\") \\\n",
    "        .agg(countDistinct(\"hadm_id\").alias(\"count_hadm_id\"))\n",
    "# Repartition the DataFrame before writing\n",
    "admission_discharge_df = admission_discharge_df.coalesce(1)\n",
    "admission_discharge_df.show()\n",
    "# Write the DataFrame to Delta Lake\n",
    "admission_discharge_df.write.mode(\"overwrite\").format(\"delta\").option(\"path\",\"/mnt/mimic/processed/Discharge_location.delta\").saveAsTable(\"mimicdbreports.usecase3\")"
   ]
  },
  {
   "cell_type": "code",
   "execution_count": null,
   "metadata": {
    "application/vnd.databricks.v1+cell": {
     "cellMetadata": {
      "byteLimit": 2048000,
      "rowLimit": 10000
     },
     "inputWidgets": {},
     "nuid": "45bfd5f5-59e5-49da-9593-71f58336ded6",
     "showTitle": false,
     "title": ""
    }
   },
   "outputs": [
    {
     "name": "stdout",
     "output_type": "stream",
     "text": [
      "+---------+-----+\n",
      "|age_group|count|\n",
      "+---------+-----+\n",
      "|    21-30|    5|\n",
      "|    31-40|    5|\n",
      "|    41-50|   13|\n",
      "|    51-60|   22|\n",
      "|    61-70|   28|\n",
      "|    71-80|   12|\n",
      "|    81-90|   12|\n",
      "|   91-100|    3|\n",
      "+---------+-----+\n",
      "\n"
     ]
    }
   ],
   "source": [
    "# Usecase4 Age Group admissions\n",
    "from pyspark.sql.functions import when, col\n",
    "age_group_df = merged_df \\\n",
    ".select(\"subject_id\",\"anchor_age\").distinct() \\\n",
    "    .withColumn(\"age_group\", when((col(\"anchor_age\") >= 1) & (col(\"anchor_age\") <= 10), \"0-10\")\n",
    "                .when((col(\"anchor_age\") >= 11) & (col(\"anchor_age\") <= 20), \"11-20\")\n",
    "                .when((col(\"anchor_age\") >= 21) & (col(\"anchor_age\") <= 30), \"21-30\")\n",
    "                .when((col(\"anchor_age\") >= 31) & (col(\"anchor_age\") <= 40), \"31-40\")\n",
    "                .when((col(\"anchor_age\") >= 41) & (col(\"anchor_age\") <= 50), \"41-50\")\n",
    "                .when((col(\"anchor_age\") >= 51) & (col(\"anchor_age\") <= 60), \"51-60\")\n",
    "                .when((col(\"anchor_age\") >= 61) & (col(\"anchor_age\") <= 70), \"61-70\")\n",
    "                .when((col(\"anchor_age\") >= 71) & (col(\"anchor_age\") <= 80), \"71-80\")\n",
    "                .when((col(\"anchor_age\") >= 81) & (col(\"anchor_age\") <= 90), \"81-90\")\n",
    "                .when((col(\"anchor_age\") >= 91) & (col(\"anchor_age\") <= 100), \"91-100\")\n",
    "                .otherwise(\"null\"))\n",
    "age_group_counts = age_group_df.groupBy(\"age_group\").count().orderBy(\"age_group\")\n",
    "# Repartition the DataFrame before writing\n",
    "age_group_counts = age_group_counts.coalesce(1)\n",
    "age_group_counts.show()\n",
    "# Write the DataFrame to Delta Lake\n",
    "age_group_counts.write.mode(\"overwrite\").format(\"delta\").option(\"path\",\"/mnt/mimic/processed/Age_group.delta\").saveAsTable(\"mimicdbreports.usecase4\")"
   ]
  },
  {
   "cell_type": "code",
   "execution_count": null,
   "metadata": {
    "application/vnd.databricks.v1+cell": {
     "cellMetadata": {
      "byteLimit": 2048000,
      "rowLimit": 10000
     },
     "inputWidgets": {},
     "nuid": "74c6c45f-1625-44ee-bb5a-05e325d8760c",
     "showTitle": false,
     "title": ""
    }
   },
   "outputs": [
    {
     "name": "stdout",
     "output_type": "stream",
     "text": [
      "+---------------------------------------+\n",
      "|Patients_discharged_without_readmission|\n",
      "+---------------------------------------+\n",
      "|                                     18|\n",
      "+---------------------------------------+\n",
      "\n"
     ]
    }
   ],
   "source": [
    "#Usecase5 No of patients got discharged and not admitted again = No Readmissions\n",
    "filtered_df = merged_df.filter(merged_df[\"discharge_location\"].isNull())\n",
    "result_df = filtered_df.select(\"subject_id\").agg(countDistinct(\"subject_id\").alias(\"Patients_discharged_without_readmission\"))\n",
    "# Repartition the DataFrame before writing\n",
    "result_df = result_df.coalesce(1)\n",
    "result_df.show()\n",
    "# Write the DataFrame to Delta Lake\n",
    "result_df.write.mode(\"overwrite\").format(\"delta\").option(\"path\",\"/mnt/mimic/processed/Discharged_no_readmission.delta\").saveAsTable(\"mimicdbreports.usecase5\")"
   ]
  },
  {
   "cell_type": "code",
   "execution_count": null,
   "metadata": {
    "application/vnd.databricks.v1+cell": {
     "cellMetadata": {
      "byteLimit": 2048000,
      "rowLimit": 10000
     },
     "inputWidgets": {},
     "nuid": "db548304-c3a5-4d5c-8aaf-37f99c045cd4",
     "showTitle": false,
     "title": ""
    }
   },
   "outputs": [
    {
     "name": "stdout",
     "output_type": "stream",
     "text": [
      "+--------------------+----------+\n",
      "|      admission_type|admissions|\n",
      "+--------------------+----------+\n",
      "|  DIRECT OBSERVATION|         6|\n",
      "|      EU OBSERVATION|        13|\n",
      "|            EW EMER.|        60|\n",
      "|            ELECTIVE|        10|\n",
      "|SURGICAL SAME DAY...|        17|\n",
      "|   OBSERVATION ADMIT|        22|\n",
      "|AMBULATORY OBSERV...|         4|\n",
      "|              URGENT|        32|\n",
      "|        DIRECT EMER.|        12|\n",
      "+--------------------+----------+\n",
      "\n"
     ]
    }
   ],
   "source": [
    "#Usecase6 No of patients admitted under each category\n",
    "admission_types = merged_df.groupBy(\"admission_type\").agg(countDistinct(\"subject_id\").alias(\"admissions\"))\n",
    "# Repartition the DataFrame before writing\n",
    "admission_types = admission_types.coalesce(1)\n",
    "admission_types.show()\n",
    "# Write the DataFrame to Delta Lake\n",
    "admission_types.write.mode(\"overwrite\").format(\"delta\").option(\"path\",\"/mnt/mimic/processed/Category_type.delta\").saveAsTable(\"mimicdbreports.usecase6\")"
   ]
  },
  {
   "cell_type": "code",
   "execution_count": null,
   "metadata": {
    "application/vnd.databricks.v1+cell": {
     "cellMetadata": {
      "byteLimit": 2048000,
      "rowLimit": 10000
     },
     "inputWidgets": {},
     "nuid": "739a06ae-57aa-42c7-810b-f6537594b1e1",
     "showTitle": false,
     "title": ""
    }
   },
   "outputs": [
    {
     "name": "stdout",
     "output_type": "stream",
     "text": [
      "+---------+--------------+\n",
      "|insurance|count_subjects|\n",
      "+---------+--------------+\n",
      "|    Other|            57|\n",
      "| Medicaid|            10|\n",
      "| Medicare|            38|\n",
      "+---------+--------------+\n",
      "\n"
     ]
    }
   ],
   "source": [
    "#Usecase7 Insurance category\n",
    "insurance_category_df = merged_df.groupBy(\"insurance\").agg(countDistinct(\"subject_id\").alias(\"count_subjects\"))\n",
    "# Repartition the DataFrame before writing\n",
    "insurance_category_df = insurance_category_df.coalesce(1)\n",
    "insurance_category_df.show()\n",
    "# Write the DataFrame to Delta Lake\n",
    "insurance_category_df.write.mode(\"overwrite\").format(\"delta\").option(\"path\",\"/mnt/mimic/processed/Insurance_category.delta\").saveAsTable(\"mimicdbreports.usecase7\")"
   ]
  },
  {
   "cell_type": "code",
   "execution_count": null,
   "metadata": {
    "application/vnd.databricks.v1+cell": {
     "cellMetadata": {
      "byteLimit": 2048000,
      "rowLimit": 10000
     },
     "inputWidgets": {},
     "nuid": "0af600c6-e421-459b-ba6f-04ffc018ed52",
     "showTitle": false,
     "title": ""
    }
   },
   "outputs": [
    {
     "name": "stdout",
     "output_type": "stream",
     "text": [
      "+--------------------+----------+\n",
      "|      admission_type|admissions|\n",
      "+--------------------+----------+\n",
      "|  DIRECT OBSERVATION|         6|\n",
      "|      EU OBSERVATION|        13|\n",
      "|            EW EMER.|        60|\n",
      "|            ELECTIVE|        10|\n",
      "|SURGICAL SAME DAY...|        17|\n",
      "|   OBSERVATION ADMIT|        22|\n",
      "|AMBULATORY OBSERV...|         4|\n",
      "|              URGENT|        32|\n",
      "|        DIRECT EMER.|        12|\n",
      "+--------------------+----------+\n",
      "\n"
     ]
    }
   ],
   "source": [
    "from pyspark.sql import SparkSession\n",
    "from pyspark.sql.functions import desc, countDistinct\n",
    "\n",
    "spark = SparkSession.builder.getOrCreate()\n",
    "\n",
    "# Usecase8 Admission count in each department\n",
    "joined_df = merged_df.join(services_distinct, ['subject_id', 'hadm_id'], 'left')\n",
    "result_df = joined_df.groupBy('curr_service') \\\n",
    "    .agg(countDistinct('hadm_id').alias('admission_count')) \\\n",
    "    .orderBy(desc('admission_count'))\n",
    "\n",
    "# Repartition the DataFrame before writing\n",
    "admission_types = admission_types.coalesce(1)\n",
    "admission_types.show()\n",
    "# Write the DataFrame to Delta Lake\n",
    "admission_types.write.mode(\"overwrite\").format(\"delta\").option(\"path\",\"/mnt/mimic/processed/Admission_type.delta\").saveAsTable(\"mimicdbreports.usecase8\")"
   ]
  },
  {
   "cell_type": "code",
   "execution_count": null,
   "metadata": {
    "application/vnd.databricks.v1+cell": {
     "cellMetadata": {
      "byteLimit": 2048000,
      "rowLimit": 10000
     },
     "inputWidgets": {},
     "nuid": "6a20b4fb-d54b-4e66-bfa8-f658fc2877a3",
     "showTitle": false,
     "title": ""
    }
   },
   "outputs": [
    {
     "name": "stdout",
     "output_type": "stream",
     "text": [
      "+--------------------+----------------+--------------------+\n",
      "|           Diagnosis|Medication_count|     Medication_list|\n",
      "+--------------------+----------------+--------------------+\n",
      "|Acute nonparalyti...|              53|Acetaminophen, Ac...|\n",
      "|Acute poliomyelit...|              67|Acetaminophen, Ac...|\n",
      "|Alcohol-induced p...|              29|Acetaminophen, Ac...|\n",
      "|Benign essential ...|              11|Acetaminophen, Ac...|\n",
      "|Benign neoplasm o...|              29|Acetaminophen, Ac...|\n",
      "|Benign neoplasm o...|              25|Albumin 25% (12.5...|\n",
      "|Benign neoplasm o...|              25|Albumin 25% (12.5...|\n",
      "|Blisters, epiderm...|              14|Acetaminophen, Ac...|\n",
      "|          Chilblains|              39|Acetaminophen, Ac...|\n",
      "|Contusion of unsp...|               2|Morphine Sulfate,...|\n",
      "|Deaf, nonspeaking...|              93|Acetaminophen, Ac...|\n",
      "|Diaphragmatic her...|              26|Alteplase 1mg/2mL...|\n",
      "|   Frostbite of face|               4|Morphine Sulfate,...|\n",
      "|Glossopharyngeal ...|              27|Acetaminophen, Ac...|\n",
      "|          Glycosuria|              16|Acetaminophen, Ac...|\n",
      "|Hyperkinetic cond...|              25|Albumin 25% (12.5...|\n",
      "|Injury to multipl...|              43|Acetaminophen, Ac...|\n",
      "|Injury to uterus,...|              28|Acetaminophen, Ac...|\n",
      "|        Lymphangitis|              23|Acetaminophen, As...|\n",
      "|Malignant neoplas...|              16|Acetaminophen IV,...|\n",
      "+--------------------+----------------+--------------------+\n",
      "only showing top 20 rows\n",
      "\n"
     ]
    }
   ],
   "source": [
    "#Usecase9 #Usecase9 Medication prescribed for each diagnosis\n",
    "from pyspark.sql.functions import countDistinct, array_join, collect_list, col\n",
    "joined_df = merged_df.join(emar_distinct,(emar_distinct.subject_id==merged_df.subject_id) \n",
    "                           & (emar_distinct.hadm_id==merged_df.hadm_id), 'left')\n",
    "joined1_df = joined_df.join(procedures_distinct,(procedures_distinct.subject_id==emar_distinct.subject_id) \n",
    "                            & (procedures_distinct.hadm_id==emar_distinct.hadm_id), 'left')\n",
    "joined2_df = joined1_df.join(diagnoses_distinct, (diagnoses_distinct.icd_code == joined1_df.icd_code) \n",
    "                             & (diagnoses_distinct.icd_version == joined1_df.icd_version), 'left')\n",
    "filtered_df = joined2_df.filter((col('long_title').isNotNull()) & (col('medication').isNotNull()))\n",
    "filtered1_df=filtered_df.withColumnRenamed('long_title','Diagnosis')\n",
    "result_df = filtered1_df.groupBy('Diagnosis') \\\n",
    "    .agg(countDistinct('medication').alias('Medication_count'),array_join(collect_list('medication'), ', ').alias('Medication_list')) \\\n",
    "    .orderBy('Diagnosis')\n",
    "result_df.show()\n",
    "# Write the DataFrame to Delta Lake\n",
    "result_df.write.mode(\"overwrite\").format(\"delta\").option(\"path\",\"/mnt/mimic/processed/Medication_prescribed.delta\").saveAsTable(\"mimicdbreports.usecase9\")"
   ]
  },
  {
   "cell_type": "code",
   "execution_count": null,
   "metadata": {
    "application/vnd.databricks.v1+cell": {
     "cellMetadata": {
      "byteLimit": 2048000,
      "rowLimit": 10000
     },
     "inputWidgets": {},
     "nuid": "2dbe4db7-988c-4b5a-b8f1-bbd7dbbb3c0d",
     "showTitle": false,
     "title": ""
    }
   },
   "outputs": [
    {
     "name": "stdout",
     "output_type": "stream",
     "text": [
      "+--------------------+----------+\n",
      "|      admission_type|admissions|\n",
      "+--------------------+----------+\n",
      "|  DIRECT OBSERVATION|         6|\n",
      "|      EU OBSERVATION|        13|\n",
      "|            EW EMER.|        60|\n",
      "|            ELECTIVE|        10|\n",
      "|SURGICAL SAME DAY...|        17|\n",
      "|   OBSERVATION ADMIT|        22|\n",
      "|AMBULATORY OBSERV...|         4|\n",
      "|              URGENT|        32|\n",
      "|        DIRECT EMER.|        12|\n",
      "+--------------------+----------+\n",
      "\n"
     ]
    }
   ],
   "source": [
    "from pyspark.sql import Window\n",
    "from pyspark.sql.functions import col, count\n",
    "\n",
    "# Usecase 10: Patients admitted with Severity and Mortality High who have Recovered\n",
    "joined_df = merged_df.join(drgcode_distinct, [\"subject_id\", \"hadm_id\"], 'left')\n",
    "filtered_df = joined_df.filter((col(\"drg_severity\") > 3) & (col(\"drg_mortality\") > 3))\n",
    "window_spec = Window.partitionBy(\"hospital_expire_flag\").orderBy(\"hospital_expire_flag\")\n",
    "result_df = filtered_df.select(\"hospital_expire_flag\", count(\"hadm_id\").over(window_spec).alias(\"count\"))\n",
    "distinct_result_df = result_df.dropDuplicates([\"hospital_expire_flag\"])\n",
    "recovered_df = distinct_result_df.filter(col(\"hospital_expire_flag\") == 0)\n",
    "recovered_df = recovered_df.withColumnRenamed(\"hospital_expire_flag\", \"Recovered\")\n",
    "# Repartition the DataFrame before writing\n",
    "recovered_df = admission_types.coalesce(1)\n",
    "recovered_df.show()\n",
    "# Write the DataFrame to Delta Lake\n",
    "recovered_df.write.mode(\"overwrite\").format(\"delta\").option(\"path\",\"/mnt/mimic/processed/Recovered_count.delta\").saveAsTable(\"mimicdbreports.usecase10\")"
   ]
  }
 ],
 "metadata": {
  "application/vnd.databricks.v1+notebook": {
   "dashboards": [],
   "language": "python",
   "notebookMetadata": {
    "mostRecentlyExecutedCommandWithImplicitDF": {
     "commandId": 3958225548381040,
     "dataframes": [
      "_sqldf"
     ]
    },
    "pythonIndentUnit": 4
   },
   "notebookName": "MIMIC_Project_Code_Databricks",
   "widgets": {}
  },
  "language_info": {
   "name": "python"
  }
 },
 "nbformat": 4,
 "nbformat_minor": 0
}
